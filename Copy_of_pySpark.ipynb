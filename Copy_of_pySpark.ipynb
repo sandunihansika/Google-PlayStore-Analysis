{
  "nbformat": 4,
  "nbformat_minor": 0,
  "metadata": {
    "colab": {
      "name": "Copy of pySpark.ipynb",
      "provenance": [],
      "collapsed_sections": [],
      "include_colab_link": true
    },
    "kernelspec": {
      "name": "python3",
      "display_name": "Python 3"
    },
    "language_info": {
      "name": "python"
    }
  },
  "cells": [
    {
      "cell_type": "markdown",
      "metadata": {
        "id": "view-in-github",
        "colab_type": "text"
      },
      "source": [
        "<a href=\"https://colab.research.google.com/github/ShachiniMekala/Google_PlayStore_Analysis/blob/Mekala/Copy_of_pySpark.ipynb\" target=\"_parent\"><img src=\"https://colab.research.google.com/assets/colab-badge.svg\" alt=\"Open In Colab\"/></a>"
      ]
    },
    {
      "cell_type": "markdown",
      "metadata": {
        "id": "t7X-8-qaHwu4"
      },
      "source": [
        "# Background Work"
      ]
    },
    {
      "cell_type": "code",
      "metadata": {
        "id": "945Gu_JIoUZI",
        "colab": {
          "base_uri": "https://localhost:8080/"
        },
        "outputId": "630de0bb-ea2f-4a53-8101-2db04957a379"
      },
      "source": [
        "!pip install empiricaldist"
      ],
      "execution_count": null,
      "outputs": [
        {
          "output_type": "stream",
          "text": [
            "Collecting empiricaldist\n",
            "  Downloading https://files.pythonhosted.org/packages/13/a3/219c49224f1f01344a75c2bb2d072dfbf46dffb974bbd2abfcd5510e6129/empiricaldist-0.6.2.tar.gz\n",
            "Building wheels for collected packages: empiricaldist\n",
            "  Building wheel for empiricaldist (setup.py) ... \u001b[?25l\u001b[?25hdone\n",
            "  Created wheel for empiricaldist: filename=empiricaldist-0.6.2-cp37-none-any.whl size=10735 sha256=69de18579bdf0f47951e1154b28caa984cbfd806eae1d16c1b21f6fc7265aa17\n",
            "  Stored in directory: /root/.cache/pip/wheels/e4/e5/d8/d4d4507625d0224195c2ae00cae0fd9d16404acdcae28eaef7\n",
            "Successfully built empiricaldist\n",
            "Installing collected packages: empiricaldist\n",
            "Successfully installed empiricaldist-0.6.2\n"
          ],
          "name": "stdout"
        }
      ]
    },
    {
      "cell_type": "code",
      "metadata": {
        "id": "SAWicK0ewXmJ"
      },
      "source": [
        "from google.colab import files"
      ],
      "execution_count": 2,
      "outputs": []
    },
    {
      "cell_type": "code",
      "metadata": {
        "id": "9JJp7wCGb9uI",
        "colab": {
          "resources": {
            "http://localhost:8080/nbextensions/google.colab/files.js": {
              "data": "Ly8gQ29weXJpZ2h0IDIwMTcgR29vZ2xlIExMQwovLwovLyBMaWNlbnNlZCB1bmRlciB0aGUgQXBhY2hlIExpY2Vuc2UsIFZlcnNpb24gMi4wICh0aGUgIkxpY2Vuc2UiKTsKLy8geW91IG1heSBub3QgdXNlIHRoaXMgZmlsZSBleGNlcHQgaW4gY29tcGxpYW5jZSB3aXRoIHRoZSBMaWNlbnNlLgovLyBZb3UgbWF5IG9idGFpbiBhIGNvcHkgb2YgdGhlIExpY2Vuc2UgYXQKLy8KLy8gICAgICBodHRwOi8vd3d3LmFwYWNoZS5vcmcvbGljZW5zZXMvTElDRU5TRS0yLjAKLy8KLy8gVW5sZXNzIHJlcXVpcmVkIGJ5IGFwcGxpY2FibGUgbGF3IG9yIGFncmVlZCB0byBpbiB3cml0aW5nLCBzb2Z0d2FyZQovLyBkaXN0cmlidXRlZCB1bmRlciB0aGUgTGljZW5zZSBpcyBkaXN0cmlidXRlZCBvbiBhbiAiQVMgSVMiIEJBU0lTLAovLyBXSVRIT1VUIFdBUlJBTlRJRVMgT1IgQ09ORElUSU9OUyBPRiBBTlkgS0lORCwgZWl0aGVyIGV4cHJlc3Mgb3IgaW1wbGllZC4KLy8gU2VlIHRoZSBMaWNlbnNlIGZvciB0aGUgc3BlY2lmaWMgbGFuZ3VhZ2UgZ292ZXJuaW5nIHBlcm1pc3Npb25zIGFuZAovLyBsaW1pdGF0aW9ucyB1bmRlciB0aGUgTGljZW5zZS4KCi8qKgogKiBAZmlsZW92ZXJ2aWV3IEhlbHBlcnMgZm9yIGdvb2dsZS5jb2xhYiBQeXRob24gbW9kdWxlLgogKi8KKGZ1bmN0aW9uKHNjb3BlKSB7CmZ1bmN0aW9uIHNwYW4odGV4dCwgc3R5bGVBdHRyaWJ1dGVzID0ge30pIHsKICBjb25zdCBlbGVtZW50ID0gZG9jdW1lbnQuY3JlYXRlRWxlbWVudCgnc3BhbicpOwogIGVsZW1lbnQudGV4dENvbnRlbnQgPSB0ZXh0OwogIGZvciAoY29uc3Qga2V5IG9mIE9iamVjdC5rZXlzKHN0eWxlQXR0cmlidXRlcykpIHsKICAgIGVsZW1lbnQuc3R5bGVba2V5XSA9IHN0eWxlQXR0cmlidXRlc1trZXldOwogIH0KICByZXR1cm4gZWxlbWVudDsKfQoKLy8gTWF4IG51bWJlciBvZiBieXRlcyB3aGljaCB3aWxsIGJlIHVwbG9hZGVkIGF0IGEgdGltZS4KY29uc3QgTUFYX1BBWUxPQURfU0laRSA9IDEwMCAqIDEwMjQ7CgpmdW5jdGlvbiBfdXBsb2FkRmlsZXMoaW5wdXRJZCwgb3V0cHV0SWQpIHsKICBjb25zdCBzdGVwcyA9IHVwbG9hZEZpbGVzU3RlcChpbnB1dElkLCBvdXRwdXRJZCk7CiAgY29uc3Qgb3V0cHV0RWxlbWVudCA9IGRvY3VtZW50LmdldEVsZW1lbnRCeUlkKG91dHB1dElkKTsKICAvLyBDYWNoZSBzdGVwcyBvbiB0aGUgb3V0cHV0RWxlbWVudCB0byBtYWtlIGl0IGF2YWlsYWJsZSBmb3IgdGhlIG5leHQgY2FsbAogIC8vIHRvIHVwbG9hZEZpbGVzQ29udGludWUgZnJvbSBQeXRob24uCiAgb3V0cHV0RWxlbWVudC5zdGVwcyA9IHN0ZXBzOwoKICByZXR1cm4gX3VwbG9hZEZpbGVzQ29udGludWUob3V0cHV0SWQpOwp9CgovLyBUaGlzIGlzIHJvdWdobHkgYW4gYXN5bmMgZ2VuZXJhdG9yIChub3Qgc3VwcG9ydGVkIGluIHRoZSBicm93c2VyIHlldCksCi8vIHdoZXJlIHRoZXJlIGFyZSBtdWx0aXBsZSBhc3luY2hyb25vdXMgc3RlcHMgYW5kIHRoZSBQeXRob24gc2lkZSBpcyBnb2luZwovLyB0byBwb2xsIGZvciBjb21wbGV0aW9uIG9mIGVhY2ggc3RlcC4KLy8gVGhpcyB1c2VzIGEgUHJvbWlzZSB0byBibG9jayB0aGUgcHl0aG9uIHNpZGUgb24gY29tcGxldGlvbiBvZiBlYWNoIHN0ZXAsCi8vIHRoZW4gcGFzc2VzIHRoZSByZXN1bHQgb2YgdGhlIHByZXZpb3VzIHN0ZXAgYXMgdGhlIGlucHV0IHRvIHRoZSBuZXh0IHN0ZXAuCmZ1bmN0aW9uIF91cGxvYWRGaWxlc0NvbnRpbnVlKG91dHB1dElkKSB7CiAgY29uc3Qgb3V0cHV0RWxlbWVudCA9IGRvY3VtZW50LmdldEVsZW1lbnRCeUlkKG91dHB1dElkKTsKICBjb25zdCBzdGVwcyA9IG91dHB1dEVsZW1lbnQuc3RlcHM7CgogIGNvbnN0IG5leHQgPSBzdGVwcy5uZXh0KG91dHB1dEVsZW1lbnQubGFzdFByb21pc2VWYWx1ZSk7CiAgcmV0dXJuIFByb21pc2UucmVzb2x2ZShuZXh0LnZhbHVlLnByb21pc2UpLnRoZW4oKHZhbHVlKSA9PiB7CiAgICAvLyBDYWNoZSB0aGUgbGFzdCBwcm9taXNlIHZhbHVlIHRvIG1ha2UgaXQgYXZhaWxhYmxlIHRvIHRoZSBuZXh0CiAgICAvLyBzdGVwIG9mIHRoZSBnZW5lcmF0b3IuCiAgICBvdXRwdXRFbGVtZW50Lmxhc3RQcm9taXNlVmFsdWUgPSB2YWx1ZTsKICAgIHJldHVybiBuZXh0LnZhbHVlLnJlc3BvbnNlOwogIH0pOwp9CgovKioKICogR2VuZXJhdG9yIGZ1bmN0aW9uIHdoaWNoIGlzIGNhbGxlZCBiZXR3ZWVuIGVhY2ggYXN5bmMgc3RlcCBvZiB0aGUgdXBsb2FkCiAqIHByb2Nlc3MuCiAqIEBwYXJhbSB7c3RyaW5nfSBpbnB1dElkIEVsZW1lbnQgSUQgb2YgdGhlIGlucHV0IGZpbGUgcGlja2VyIGVsZW1lbnQuCiAqIEBwYXJhbSB7c3RyaW5nfSBvdXRwdXRJZCBFbGVtZW50IElEIG9mIHRoZSBvdXRwdXQgZGlzcGxheS4KICogQHJldHVybiB7IUl0ZXJhYmxlPCFPYmplY3Q+fSBJdGVyYWJsZSBvZiBuZXh0IHN0ZXBzLgogKi8KZnVuY3Rpb24qIHVwbG9hZEZpbGVzU3RlcChpbnB1dElkLCBvdXRwdXRJZCkgewogIGNvbnN0IGlucHV0RWxlbWVudCA9IGRvY3VtZW50LmdldEVsZW1lbnRCeUlkKGlucHV0SWQpOwogIGlucHV0RWxlbWVudC5kaXNhYmxlZCA9IGZhbHNlOwoKICBjb25zdCBvdXRwdXRFbGVtZW50ID0gZG9jdW1lbnQuZ2V0RWxlbWVudEJ5SWQob3V0cHV0SWQpOwogIG91dHB1dEVsZW1lbnQuaW5uZXJIVE1MID0gJyc7CgogIGNvbnN0IHBpY2tlZFByb21pc2UgPSBuZXcgUHJvbWlzZSgocmVzb2x2ZSkgPT4gewogICAgaW5wdXRFbGVtZW50LmFkZEV2ZW50TGlzdGVuZXIoJ2NoYW5nZScsIChlKSA9PiB7CiAgICAgIHJlc29sdmUoZS50YXJnZXQuZmlsZXMpOwogICAgfSk7CiAgfSk7CgogIGNvbnN0IGNhbmNlbCA9IGRvY3VtZW50LmNyZWF0ZUVsZW1lbnQoJ2J1dHRvbicpOwogIGlucHV0RWxlbWVudC5wYXJlbnRFbGVtZW50LmFwcGVuZENoaWxkKGNhbmNlbCk7CiAgY2FuY2VsLnRleHRDb250ZW50ID0gJ0NhbmNlbCB1cGxvYWQnOwogIGNvbnN0IGNhbmNlbFByb21pc2UgPSBuZXcgUHJvbWlzZSgocmVzb2x2ZSkgPT4gewogICAgY2FuY2VsLm9uY2xpY2sgPSAoKSA9PiB7CiAgICAgIHJlc29sdmUobnVsbCk7CiAgICB9OwogIH0pOwoKICAvLyBXYWl0IGZvciB0aGUgdXNlciB0byBwaWNrIHRoZSBmaWxlcy4KICBjb25zdCBmaWxlcyA9IHlpZWxkIHsKICAgIHByb21pc2U6IFByb21pc2UucmFjZShbcGlja2VkUHJvbWlzZSwgY2FuY2VsUHJvbWlzZV0pLAogICAgcmVzcG9uc2U6IHsKICAgICAgYWN0aW9uOiAnc3RhcnRpbmcnLAogICAgfQogIH07CgogIGNhbmNlbC5yZW1vdmUoKTsKCiAgLy8gRGlzYWJsZSB0aGUgaW5wdXQgZWxlbWVudCBzaW5jZSBmdXJ0aGVyIHBpY2tzIGFyZSBub3QgYWxsb3dlZC4KICBpbnB1dEVsZW1lbnQuZGlzYWJsZWQgPSB0cnVlOwoKICBpZiAoIWZpbGVzKSB7CiAgICByZXR1cm4gewogICAgICByZXNwb25zZTogewogICAgICAgIGFjdGlvbjogJ2NvbXBsZXRlJywKICAgICAgfQogICAgfTsKICB9CgogIGZvciAoY29uc3QgZmlsZSBvZiBmaWxlcykgewogICAgY29uc3QgbGkgPSBkb2N1bWVudC5jcmVhdGVFbGVtZW50KCdsaScpOwogICAgbGkuYXBwZW5kKHNwYW4oZmlsZS5uYW1lLCB7Zm9udFdlaWdodDogJ2JvbGQnfSkpOwogICAgbGkuYXBwZW5kKHNwYW4oCiAgICAgICAgYCgke2ZpbGUudHlwZSB8fCAnbi9hJ30pIC0gJHtmaWxlLnNpemV9IGJ5dGVzLCBgICsKICAgICAgICBgbGFzdCBtb2RpZmllZDogJHsKICAgICAgICAgICAgZmlsZS5sYXN0TW9kaWZpZWREYXRlID8gZmlsZS5sYXN0TW9kaWZpZWREYXRlLnRvTG9jYWxlRGF0ZVN0cmluZygpIDoKICAgICAgICAgICAgICAgICAgICAgICAgICAgICAgICAgICAgJ24vYSd9IC0gYCkpOwogICAgY29uc3QgcGVyY2VudCA9IHNwYW4oJzAlIGRvbmUnKTsKICAgIGxpLmFwcGVuZENoaWxkKHBlcmNlbnQpOwoKICAgIG91dHB1dEVsZW1lbnQuYXBwZW5kQ2hpbGQobGkpOwoKICAgIGNvbnN0IGZpbGVEYXRhUHJvbWlzZSA9IG5ldyBQcm9taXNlKChyZXNvbHZlKSA9PiB7CiAgICAgIGNvbnN0IHJlYWRlciA9IG5ldyBGaWxlUmVhZGVyKCk7CiAgICAgIHJlYWRlci5vbmxvYWQgPSAoZSkgPT4gewogICAgICAgIHJlc29sdmUoZS50YXJnZXQucmVzdWx0KTsKICAgICAgfTsKICAgICAgcmVhZGVyLnJlYWRBc0FycmF5QnVmZmVyKGZpbGUpOwogICAgfSk7CiAgICAvLyBXYWl0IGZvciB0aGUgZGF0YSB0byBiZSByZWFkeS4KICAgIGxldCBmaWxlRGF0YSA9IHlpZWxkIHsKICAgICAgcHJvbWlzZTogZmlsZURhdGFQcm9taXNlLAogICAgICByZXNwb25zZTogewogICAgICAgIGFjdGlvbjogJ2NvbnRpbnVlJywKICAgICAgfQogICAgfTsKCiAgICAvLyBVc2UgYSBjaHVua2VkIHNlbmRpbmcgdG8gYXZvaWQgbWVzc2FnZSBzaXplIGxpbWl0cy4gU2VlIGIvNjIxMTU2NjAuCiAgICBsZXQgcG9zaXRpb24gPSAwOwogICAgZG8gewogICAgICBjb25zdCBsZW5ndGggPSBNYXRoLm1pbihmaWxlRGF0YS5ieXRlTGVuZ3RoIC0gcG9zaXRpb24sIE1BWF9QQVlMT0FEX1NJWkUpOwogICAgICBjb25zdCBjaHVuayA9IG5ldyBVaW50OEFycmF5KGZpbGVEYXRhLCBwb3NpdGlvbiwgbGVuZ3RoKTsKICAgICAgcG9zaXRpb24gKz0gbGVuZ3RoOwoKICAgICAgY29uc3QgYmFzZTY0ID0gYnRvYShTdHJpbmcuZnJvbUNoYXJDb2RlLmFwcGx5KG51bGwsIGNodW5rKSk7CiAgICAgIHlpZWxkIHsKICAgICAgICByZXNwb25zZTogewogICAgICAgICAgYWN0aW9uOiAnYXBwZW5kJywKICAgICAgICAgIGZpbGU6IGZpbGUubmFtZSwKICAgICAgICAgIGRhdGE6IGJhc2U2NCwKICAgICAgICB9LAogICAgICB9OwoKICAgICAgbGV0IHBlcmNlbnREb25lID0gZmlsZURhdGEuYnl0ZUxlbmd0aCA9PT0gMCA/CiAgICAgICAgICAxMDAgOgogICAgICAgICAgTWF0aC5yb3VuZCgocG9zaXRpb24gLyBmaWxlRGF0YS5ieXRlTGVuZ3RoKSAqIDEwMCk7CiAgICAgIHBlcmNlbnQudGV4dENvbnRlbnQgPSBgJHtwZXJjZW50RG9uZX0lIGRvbmVgOwoKICAgIH0gd2hpbGUgKHBvc2l0aW9uIDwgZmlsZURhdGEuYnl0ZUxlbmd0aCk7CiAgfQoKICAvLyBBbGwgZG9uZS4KICB5aWVsZCB7CiAgICByZXNwb25zZTogewogICAgICBhY3Rpb246ICdjb21wbGV0ZScsCiAgICB9CiAgfTsKfQoKc2NvcGUuZ29vZ2xlID0gc2NvcGUuZ29vZ2xlIHx8IHt9OwpzY29wZS5nb29nbGUuY29sYWIgPSBzY29wZS5nb29nbGUuY29sYWIgfHwge307CnNjb3BlLmdvb2dsZS5jb2xhYi5fZmlsZXMgPSB7CiAgX3VwbG9hZEZpbGVzLAogIF91cGxvYWRGaWxlc0NvbnRpbnVlLAp9Owp9KShzZWxmKTsK",
              "ok": true,
              "headers": [
                [
                  "content-type",
                  "application/javascript"
                ]
              ],
              "status": 200,
              "status_text": ""
            }
          },
          "base_uri": "https://localhost:8080/",
          "height": 126
        },
        "outputId": "44cddb64-4906-4b82-de8a-c1232b303e29"
      },
      "source": [
        "print('upload your dataset here :')\n",
        "uploaded = files.upload()"
      ],
      "execution_count": 4,
      "outputs": [
        {
          "output_type": "stream",
          "text": [
            "Select and upload your dataset here :\n"
          ],
          "name": "stdout"
        },
        {
          "output_type": "display_data",
          "data": {
            "text/html": [
              "\n",
              "     <input type=\"file\" id=\"files-b06a91b7-1567-49af-b429-ce551890d308\" name=\"files[]\" multiple disabled\n",
              "        style=\"border:none\" />\n",
              "     <output id=\"result-b06a91b7-1567-49af-b429-ce551890d308\">\n",
              "      Upload widget is only available when the cell has been executed in the\n",
              "      current browser session. Please rerun this cell to enable.\n",
              "      </output>\n",
              "      <script src=\"/nbextensions/google.colab/files.js\"></script> "
            ],
            "text/plain": [
              "<IPython.core.display.HTML object>"
            ]
          },
          "metadata": {
            "tags": []
          }
        },
        {
          "output_type": "stream",
          "text": [
            "Saving Google-Playstore.csv.zip to Google-Playstore.csv.zip\n",
            "unzip:  cannot find or open f/content/Google-Playstore.csv.zip, f/content/Google-Playstore.csv.zip.zip or f/content/Google-Playstore.csv.zip.ZIP.\n"
          ],
          "name": "stdout"
        }
      ]
    },
    {
      "cell_type": "code",
      "metadata": {
        "id": "NiXPdiaZyfsJ",
        "outputId": "ebeb3c3f-f8bd-4e6d-d44b-7fd948ed7f18",
        "colab": {
          "base_uri": "https://localhost:8080/"
        }
      },
      "source": [
        "!unzip \"/content/Google-Playstore.csv.zip\""
      ],
      "execution_count": 5,
      "outputs": [
        {
          "output_type": "stream",
          "text": [
            "Archive:  /content/Google-Playstore.csv.zip\n",
            "  inflating: Google-Playstore.csv    \n"
          ],
          "name": "stdout"
        }
      ]
    },
    {
      "cell_type": "code",
      "metadata": {
        "id": "8ACRtYlMUDKS"
      },
      "source": [
        "!apt-get install openjdk-8-jdk-headless -qq > /dev/null"
      ],
      "execution_count": null,
      "outputs": []
    },
    {
      "cell_type": "code",
      "metadata": {
        "id": "PkgvH9OVUFD9"
      },
      "source": [
        "!wget -q https://downloads.apache.org/spark/spark-3.1.1/spark-3.1.1-bin-hadoop2.7.tgz"
      ],
      "execution_count": null,
      "outputs": []
    },
    {
      "cell_type": "code",
      "metadata": {
        "id": "EPNluTmdUzhZ"
      },
      "source": [
        "!tar xf spark-3.1.1-bin-hadoop2.7.tgz"
      ],
      "execution_count": null,
      "outputs": []
    },
    {
      "cell_type": "code",
      "metadata": {
        "id": "IK__0psSVBOo"
      },
      "source": [
        "!pip install -q findspark"
      ],
      "execution_count": null,
      "outputs": []
    },
    {
      "cell_type": "code",
      "metadata": {
        "id": "QFDYNt1mVVFZ"
      },
      "source": [
        "import os\n",
        "os.environ[\"JAVA_HOME\"] = \"/usr/lib/jvm/java-8-openjdk-amd64\"\n",
        "os.environ[\"SPARK_HOME\"] = \"/content/spark-3.1.1-bin-hadoop2.7\""
      ],
      "execution_count": null,
      "outputs": []
    },
    {
      "cell_type": "code",
      "metadata": {
        "id": "Roni5EHvV8Mg"
      },
      "source": [
        "import findspark\n",
        "findspark.init()"
      ],
      "execution_count": null,
      "outputs": []
    },
    {
      "cell_type": "code",
      "metadata": {
        "id": "fcoxfyR3XWmA",
        "colab": {
          "base_uri": "https://localhost:8080/",
          "height": 35
        },
        "outputId": "b9bc65f6-ea1e-414c-d02b-50458bce7d7b"
      },
      "source": [
        "findspark.find()"
      ],
      "execution_count": null,
      "outputs": [
        {
          "output_type": "execute_result",
          "data": {
            "application/vnd.google.colaboratory.intrinsic+json": {
              "type": "string"
            },
            "text/plain": [
              "'/content/spark-3.1.1-bin-hadoop2.7'"
            ]
          },
          "metadata": {
            "tags": []
          },
          "execution_count": 11
        }
      ]
    },
    {
      "cell_type": "code",
      "metadata": {
        "id": "w1t1id8mXbqv"
      },
      "source": [
        "from pyspark.sql import SparkSession\n",
        "from pyspark.sql.functions import isnan, when, count, col, regexp_replace, lit, round, length, trim, concat, to_date, row_number \n",
        "from pyspark.sql.types import StringType, BooleanType, IntegerType, FloatType, DecimalType, DateType, DoubleType, LongType\n",
        "from pyspark.ml.feature import Imputer\n",
        "from pyspark.sql.window import Window\n",
        "import pandas as pd\n",
        "import numpy as np\n",
        "import matplotlib.pyplot as plt\n",
        "import seaborn as sns\n",
        "from scipy import stats\n",
        "import scipy.stats\n",
        "from scipy.stats import linregress\n",
        "from datetime import date\n",
        "from sklearn.preprocessing import LabelEncoder\n",
        "from empiricaldist import Cdf, Pmf\n",
        "from pyspark.ml.regression import LinearRegression\n",
        "from pyspark.ml.feature import VectorAssembler\n",
        "from pyspark.ml.feature import StringIndexer"
      ],
      "execution_count": null,
      "outputs": []
    },
    {
      "cell_type": "code",
      "metadata": {
        "id": "nAl0UlpOXjp_"
      },
      "source": [
        "spark = SparkSession.builder.appName(\"Data Analytics\").getOrCreate()"
      ],
      "execution_count": null,
      "outputs": []
    },
    {
      "cell_type": "code",
      "metadata": {
        "id": "UdYmQDGZXmTv"
      },
      "source": [
        "dataset = spark.read.format('com.databricks.spark.csv').options(header='true', inferschema='true', quote='\"',\n",
        "                                                                delimiter=',').load('/content/Google-Playstore.csv')"
      ],
      "execution_count": null,
      "outputs": []
    },
    {
      "cell_type": "markdown",
      "metadata": {
        "id": "ndnkKvamAMNi"
      },
      "source": [
        "# Data Preprocessing"
      ]
    },
    {
      "cell_type": "markdown",
      "metadata": {
        "id": "Oms6fcJSYibp"
      },
      "source": [
        "# Drop duplicate values"
      ]
    },
    {
      "cell_type": "code",
      "metadata": {
        "id": "RSOqI3ZJYkGf"
      },
      "source": [
        "dataset = dataset.dropDuplicates()"
      ],
      "execution_count": null,
      "outputs": []
    },
    {
      "cell_type": "markdown",
      "metadata": {
        "id": "vFrQBX9JYsJe"
      },
      "source": [
        "# Drop unwanted columns"
      ]
    },
    {
      "cell_type": "code",
      "metadata": {
        "id": "YQ5IUH2iTt5Z",
        "colab": {
          "base_uri": "https://localhost:8080/"
        },
        "outputId": "7bfb6b68-7b89-44df-a06f-8604bdc92d2a"
      },
      "source": [
        "dataset = dataset.drop('Installs', 'Minimum Installs', 'Price', 'Currency', 'Developer Website',\n",
        "                       'Developer Email', 'Privacy Policy', 'Editors Choice')\n",
        "dataset.show()\n",
        "print('Unwanted columns dropped')"
      ],
      "execution_count": null,
      "outputs": [
        {
          "output_type": "stream",
          "text": [
            "+--------------------+--------------------+-------------+------+------------+----------------+-----+------------------+------------------+--------------------+------------+------------+--------------+------------+----------------+\n",
            "|            App Name|              App Id|     Category|Rating|Rating Count|Maximum Installs| Free|              Size|   Minimum Android|        Developer Id|    Released|Last Updated|Content Rating|Ad Supported|In App Purchases|\n",
            "+--------------------+--------------------+-------------+------+------------+----------------+-----+------------------+------------------+--------------------+------------+------------+--------------+------------+----------------+\n",
            "|     Audiophile Jawa|admobileapps.lang...|Music & Audio|   0.0|           0|              20| True|               29M|        4.4 and up|   JerLin Production|Dec 29, 2019|Dec 30, 2019|          Teen|        True|           False|\n",
            "|           5asec UAE|       ae.a5asec.app|    Lifestyle|   4.6|          26|           23715| True|              109M|        6.0 and up|Alpes Laundry Ser...|Sep 30, 2019|Nov 18, 2020|      Everyone|       False|           False|\n",
            "|      African Skirts|african.skirts.fa...|       Beauty|   4.2|          51|           26601| True|              9.6M|        4.1 and up|Global App Zone -...| Mar 2, 2019|Nov 23, 2020|      Everyone|        True|           False|\n",
            "|جميع اغاني سولكين...|   aghani.soolking20|Music & Audio|   4.5|        1078|          133143| True|               80M|        4.1 and up|            sao-deve|Oct 27, 2019|Nov 05, 2020|          Teen|        True|           False|\n",
            "|Infiltrating the ...|        air.Airship2|       Casual|   4.5|       70509|        14097187| True|Varies with device|Varies with device|     PuffballsUnited|Dec 16, 2014|Jan 04, 2017|  Everyone 10+|        True|           False|\n",
            "|Guitar Chords - S...|air.IJANGLEANDROI...|Music & Audio|   4.1|          14|             689|False|Varies with device|        4.0 and up|Madster Multimedi...|May 21, 2012|Jan 17, 2019|      Everyone|       False|           False|\n",
            "|Princess Nail Art...|air.LiliDressUpGa...|       Casual|   3.3|        1113|          448194| True|Varies with device|        2.3 and up| Lili Dress Up Games| Mar 7, 2019|Sep 05, 2020|      Everyone|        True|           False|\n",
            "|Ballet Dancer - D...|    air.balletdancer|       Casual|   3.9|       18986|         5099394| True|               17M|        2.3 and up|Girl Games - Vasc...| May 8, 2014|Aug 03, 2016|      Everyone|        True|           False|\n",
            "|Buraco Italiano O...|air.br.com.megabu...|         Card|   4.2|        1486|          214987| True|Varies with device|        4.0 and up|           MegaJogos|Dec 19, 2013|Nov 06, 2020|          Teen|        True|            True|\n",
            "|    Words for a bird|air.com.bartbonte...|         Word|   4.7|        1279|           35598| True|Varies with device|        4.2 and up|          Bart Bonte| Jun 4, 2020|Oct 20, 2020|      Everyone|        True|            True|\n",
            "|Amul Baby Escape ...|air.com.bestescap...|       Puzzle|   4.6|         207|            9550| True|               21M|        4.4 and up|           JRK Games|Aug 23, 2018|Jul 27, 2020|      Everyone|        True|           False|\n",
            "|Miner Birds - Add...|air.com.busything...|  Educational|   0.0|           0|             283|False|               16M|        4.0 and up|    busythings.co.uk| Jul 6, 2017|Jul 06, 2017|      Everyone|       False|           False|\n",
            "|Dress Up Games - ...|air.com.dressupon...|       Casual|   4.1|        7718|         1396427| True|Varies with device|        4.0 and up|          bweb media|Aug 20, 2013|Nov 15, 2019|          Teen|        True|           False|\n",
            "|Hiper Zeka Mobil ...|air.com.fernus.mo...|    Education|   2.9|          58|           13050| True|Varies with device|Varies with device|              FERNUS|Sep 20, 2020|Sep 20, 2020|      Everyone|       False|           False|\n",
            "|Hospital Operatio...|air.com.glammyclu...|Entertainment|   3.5|         144|           90297| True|Varies with device|        4.0 and up|          GlammyClub| Dec 3, 2017|Sep 21, 2019|      Everyone|        True|            True|\n",
            "|Twin Kitties Spa ...|air.com.glammyclu...|Entertainment|   4.6|          60|          148054| True|Varies with device|        4.0 and up|          GlammyClub|Oct 17, 2018|Sep 28, 2019|      Everyone|        True|            True|\n",
            "|Noorani Qaida in ...|air.com.miracle.n...|    Education|   4.8|         415|           79473| True|Varies with device|        2.3 and up|           Jabir Ali|Feb 18, 2017|Jun 18, 2020|      Everyone|        True|            True|\n",
            "|        Slither Me 2|air.com.nfcstudio...|       Action|   4.0|         446|           65901| True|               18M|        4.0 and up|          NFCStudio™| Mar 4, 2019|Mar 04, 2019|      Everyone|        True|           False|\n",
            "|     Bunny Science 1|air.com.preissmur...|    Education|   0.0|           0|              93| True|               48M|        4.0 and up|Preiss Murphy A&A...| Jul 6, 2019|Jul 07, 2019|      Everyone|       False|           False|\n",
            "|3D Escape Games-P...|air.com.quicksail...|       Puzzle|   3.5|        1174|          261890| True|               28M|        2.3 and up|         Quicksailor|Dec 10, 2014|May 26, 2020|      Everyone|        True|           False|\n",
            "+--------------------+--------------------+-------------+------+------------+----------------+-----+------------------+------------------+--------------------+------------+------------+--------------+------------+----------------+\n",
            "only showing top 20 rows\n",
            "\n",
            "Unwanted columns dropped\n"
          ],
          "name": "stdout"
        }
      ]
    },
    {
      "cell_type": "markdown",
      "metadata": {
        "id": "Lft-umDwYSBv"
      },
      "source": [
        "# Drop Null values"
      ]
    },
    {
      "cell_type": "code",
      "metadata": {
        "id": "vaXzA3uyYGMw",
        "colab": {
          "base_uri": "https://localhost:8080/"
        },
        "outputId": "42926b33-3414-4d34-d227-19d84ba45fcc"
      },
      "source": [
        "dataset = dataset.na.drop(how='any', subset=['Category', 'Developer Id', 'Ad Supported', 'In App Purchases', 'Rating', 'Rating Count'])\n",
        "dataset.show()\n",
        "print('Null values dropped')"
      ],
      "execution_count": null,
      "outputs": [
        {
          "output_type": "stream",
          "text": [
            "+--------------------+--------------------+-------------+------+------------+----------------+-----+------------------+------------------+--------------------+------------+------------+--------------+------------+----------------+\n",
            "|            App Name|              App Id|     Category|Rating|Rating Count|Maximum Installs| Free|              Size|   Minimum Android|        Developer Id|    Released|Last Updated|Content Rating|Ad Supported|In App Purchases|\n",
            "+--------------------+--------------------+-------------+------+------------+----------------+-----+------------------+------------------+--------------------+------------+------------+--------------+------------+----------------+\n",
            "|     Audiophile Jawa|admobileapps.lang...|Music & Audio|   0.0|           0|              20| True|               29M|        4.4 and up|   JerLin Production|Dec 29, 2019|Dec 30, 2019|          Teen|        True|           False|\n",
            "|           5asec UAE|       ae.a5asec.app|    Lifestyle|   4.6|          26|           23715| True|              109M|        6.0 and up|Alpes Laundry Ser...|Sep 30, 2019|Nov 18, 2020|      Everyone|       False|           False|\n",
            "|      African Skirts|african.skirts.fa...|       Beauty|   4.2|          51|           26601| True|              9.6M|        4.1 and up|Global App Zone -...| Mar 2, 2019|Nov 23, 2020|      Everyone|        True|           False|\n",
            "|جميع اغاني سولكين...|   aghani.soolking20|Music & Audio|   4.5|        1078|          133143| True|               80M|        4.1 and up|            sao-deve|Oct 27, 2019|Nov 05, 2020|          Teen|        True|           False|\n",
            "|Infiltrating the ...|        air.Airship2|       Casual|   4.5|       70509|        14097187| True|Varies with device|Varies with device|     PuffballsUnited|Dec 16, 2014|Jan 04, 2017|  Everyone 10+|        True|           False|\n",
            "|Guitar Chords - S...|air.IJANGLEANDROI...|Music & Audio|   4.1|          14|             689|False|Varies with device|        4.0 and up|Madster Multimedi...|May 21, 2012|Jan 17, 2019|      Everyone|       False|           False|\n",
            "|Princess Nail Art...|air.LiliDressUpGa...|       Casual|   3.3|        1113|          448194| True|Varies with device|        2.3 and up| Lili Dress Up Games| Mar 7, 2019|Sep 05, 2020|      Everyone|        True|           False|\n",
            "|Ballet Dancer - D...|    air.balletdancer|       Casual|   3.9|       18986|         5099394| True|               17M|        2.3 and up|Girl Games - Vasc...| May 8, 2014|Aug 03, 2016|      Everyone|        True|           False|\n",
            "|Buraco Italiano O...|air.br.com.megabu...|         Card|   4.2|        1486|          214987| True|Varies with device|        4.0 and up|           MegaJogos|Dec 19, 2013|Nov 06, 2020|          Teen|        True|            True|\n",
            "|    Words for a bird|air.com.bartbonte...|         Word|   4.7|        1279|           35598| True|Varies with device|        4.2 and up|          Bart Bonte| Jun 4, 2020|Oct 20, 2020|      Everyone|        True|            True|\n",
            "|Amul Baby Escape ...|air.com.bestescap...|       Puzzle|   4.6|         207|            9550| True|               21M|        4.4 and up|           JRK Games|Aug 23, 2018|Jul 27, 2020|      Everyone|        True|           False|\n",
            "|Miner Birds - Add...|air.com.busything...|  Educational|   0.0|           0|             283|False|               16M|        4.0 and up|    busythings.co.uk| Jul 6, 2017|Jul 06, 2017|      Everyone|       False|           False|\n",
            "|Dress Up Games - ...|air.com.dressupon...|       Casual|   4.1|        7718|         1396427| True|Varies with device|        4.0 and up|          bweb media|Aug 20, 2013|Nov 15, 2019|          Teen|        True|           False|\n",
            "|Hiper Zeka Mobil ...|air.com.fernus.mo...|    Education|   2.9|          58|           13050| True|Varies with device|Varies with device|              FERNUS|Sep 20, 2020|Sep 20, 2020|      Everyone|       False|           False|\n",
            "|Hospital Operatio...|air.com.glammyclu...|Entertainment|   3.5|         144|           90297| True|Varies with device|        4.0 and up|          GlammyClub| Dec 3, 2017|Sep 21, 2019|      Everyone|        True|            True|\n",
            "|Twin Kitties Spa ...|air.com.glammyclu...|Entertainment|   4.6|          60|          148054| True|Varies with device|        4.0 and up|          GlammyClub|Oct 17, 2018|Sep 28, 2019|      Everyone|        True|            True|\n",
            "|Noorani Qaida in ...|air.com.miracle.n...|    Education|   4.8|         415|           79473| True|Varies with device|        2.3 and up|           Jabir Ali|Feb 18, 2017|Jun 18, 2020|      Everyone|        True|            True|\n",
            "|        Slither Me 2|air.com.nfcstudio...|       Action|   4.0|         446|           65901| True|               18M|        4.0 and up|          NFCStudio™| Mar 4, 2019|Mar 04, 2019|      Everyone|        True|           False|\n",
            "|     Bunny Science 1|air.com.preissmur...|    Education|   0.0|           0|              93| True|               48M|        4.0 and up|Preiss Murphy A&A...| Jul 6, 2019|Jul 07, 2019|      Everyone|       False|           False|\n",
            "|3D Escape Games-P...|air.com.quicksail...|       Puzzle|   3.5|        1174|          261890| True|               28M|        2.3 and up|         Quicksailor|Dec 10, 2014|May 26, 2020|      Everyone|        True|           False|\n",
            "+--------------------+--------------------+-------------+------+------------+----------------+-----+------------------+------------------+--------------------+------------+------------+--------------+------------+----------------+\n",
            "only showing top 20 rows\n",
            "\n",
            "Null values dropped\n"
          ],
          "name": "stdout"
        }
      ]
    },
    {
      "cell_type": "markdown",
      "metadata": {
        "id": "YZogKiYSDIDL"
      },
      "source": [
        "# Data Cleaning for \"Free\" column"
      ]
    },
    {
      "cell_type": "code",
      "metadata": {
        "id": "dh-v2VhFDOhh",
        "colab": {
          "base_uri": "https://localhost:8080/"
        },
        "outputId": "aa810bbc-6326-48ef-c864-e5ef8db79264"
      },
      "source": [
        "dataset = dataset.filter(\n",
        "    dataset['Free'].contains('True') |\n",
        "    dataset['Free'].contains('False')\n",
        ")\n",
        "dataset.show()"
      ],
      "execution_count": null,
      "outputs": [
        {
          "output_type": "stream",
          "text": [
            "+--------------------+--------------------+-------------+------+------------+----------------+-----+------------------+------------------+--------------------+------------+------------+--------------+------------+----------------+\n",
            "|            App Name|              App Id|     Category|Rating|Rating Count|Maximum Installs| Free|              Size|   Minimum Android|        Developer Id|    Released|Last Updated|Content Rating|Ad Supported|In App Purchases|\n",
            "+--------------------+--------------------+-------------+------+------------+----------------+-----+------------------+------------------+--------------------+------------+------------+--------------+------------+----------------+\n",
            "|     Audiophile Jawa|admobileapps.lang...|Music & Audio|   0.0|           0|              20| True|               29M|        4.4 and up|   JerLin Production|Dec 29, 2019|Dec 30, 2019|          Teen|        True|           False|\n",
            "|           5asec UAE|       ae.a5asec.app|    Lifestyle|   4.6|          26|           23715| True|              109M|        6.0 and up|Alpes Laundry Ser...|Sep 30, 2019|Nov 18, 2020|      Everyone|       False|           False|\n",
            "|      African Skirts|african.skirts.fa...|       Beauty|   4.2|          51|           26601| True|              9.6M|        4.1 and up|Global App Zone -...| Mar 2, 2019|Nov 23, 2020|      Everyone|        True|           False|\n",
            "|جميع اغاني سولكين...|   aghani.soolking20|Music & Audio|   4.5|        1078|          133143| True|               80M|        4.1 and up|            sao-deve|Oct 27, 2019|Nov 05, 2020|          Teen|        True|           False|\n",
            "|Infiltrating the ...|        air.Airship2|       Casual|   4.5|       70509|        14097187| True|Varies with device|Varies with device|     PuffballsUnited|Dec 16, 2014|Jan 04, 2017|  Everyone 10+|        True|           False|\n",
            "|Guitar Chords - S...|air.IJANGLEANDROI...|Music & Audio|   4.1|          14|             689|False|Varies with device|        4.0 and up|Madster Multimedi...|May 21, 2012|Jan 17, 2019|      Everyone|       False|           False|\n",
            "|Princess Nail Art...|air.LiliDressUpGa...|       Casual|   3.3|        1113|          448194| True|Varies with device|        2.3 and up| Lili Dress Up Games| Mar 7, 2019|Sep 05, 2020|      Everyone|        True|           False|\n",
            "|Ballet Dancer - D...|    air.balletdancer|       Casual|   3.9|       18986|         5099394| True|               17M|        2.3 and up|Girl Games - Vasc...| May 8, 2014|Aug 03, 2016|      Everyone|        True|           False|\n",
            "|Buraco Italiano O...|air.br.com.megabu...|         Card|   4.2|        1486|          214987| True|Varies with device|        4.0 and up|           MegaJogos|Dec 19, 2013|Nov 06, 2020|          Teen|        True|            True|\n",
            "|    Words for a bird|air.com.bartbonte...|         Word|   4.7|        1279|           35598| True|Varies with device|        4.2 and up|          Bart Bonte| Jun 4, 2020|Oct 20, 2020|      Everyone|        True|            True|\n",
            "|Amul Baby Escape ...|air.com.bestescap...|       Puzzle|   4.6|         207|            9550| True|               21M|        4.4 and up|           JRK Games|Aug 23, 2018|Jul 27, 2020|      Everyone|        True|           False|\n",
            "|Miner Birds - Add...|air.com.busything...|  Educational|   0.0|           0|             283|False|               16M|        4.0 and up|    busythings.co.uk| Jul 6, 2017|Jul 06, 2017|      Everyone|       False|           False|\n",
            "|Dress Up Games - ...|air.com.dressupon...|       Casual|   4.1|        7718|         1396427| True|Varies with device|        4.0 and up|          bweb media|Aug 20, 2013|Nov 15, 2019|          Teen|        True|           False|\n",
            "|Hiper Zeka Mobil ...|air.com.fernus.mo...|    Education|   2.9|          58|           13050| True|Varies with device|Varies with device|              FERNUS|Sep 20, 2020|Sep 20, 2020|      Everyone|       False|           False|\n",
            "|Hospital Operatio...|air.com.glammyclu...|Entertainment|   3.5|         144|           90297| True|Varies with device|        4.0 and up|          GlammyClub| Dec 3, 2017|Sep 21, 2019|      Everyone|        True|            True|\n",
            "|Twin Kitties Spa ...|air.com.glammyclu...|Entertainment|   4.6|          60|          148054| True|Varies with device|        4.0 and up|          GlammyClub|Oct 17, 2018|Sep 28, 2019|      Everyone|        True|            True|\n",
            "|Noorani Qaida in ...|air.com.miracle.n...|    Education|   4.8|         415|           79473| True|Varies with device|        2.3 and up|           Jabir Ali|Feb 18, 2017|Jun 18, 2020|      Everyone|        True|            True|\n",
            "|        Slither Me 2|air.com.nfcstudio...|       Action|   4.0|         446|           65901| True|               18M|        4.0 and up|          NFCStudio™| Mar 4, 2019|Mar 04, 2019|      Everyone|        True|           False|\n",
            "|     Bunny Science 1|air.com.preissmur...|    Education|   0.0|           0|              93| True|               48M|        4.0 and up|Preiss Murphy A&A...| Jul 6, 2019|Jul 07, 2019|      Everyone|       False|           False|\n",
            "|3D Escape Games-P...|air.com.quicksail...|       Puzzle|   3.5|        1174|          261890| True|               28M|        2.3 and up|         Quicksailor|Dec 10, 2014|May 26, 2020|      Everyone|        True|           False|\n",
            "+--------------------+--------------------+-------------+------+------------+----------------+-----+------------------+------------------+--------------------+------------+------------+--------------+------------+----------------+\n",
            "only showing top 20 rows\n",
            "\n"
          ],
          "name": "stdout"
        }
      ]
    },
    {
      "cell_type": "markdown",
      "metadata": {
        "id": "MAlhJhQmJgxN"
      },
      "source": [
        "# Data cleaning for \"Category\" column"
      ]
    },
    {
      "cell_type": "code",
      "metadata": {
        "id": "VHNb7WNvJgSO",
        "colab": {
          "base_uri": "https://localhost:8080/"
        },
        "outputId": "9b71af10-73a2-4dd7-f8ef-c13d2334b34f"
      },
      "source": [
        "dataset = dataset.filter(\n",
        "    dataset.Category.contains('Communication') |\n",
        "    dataset.Category.contains('Strategy') |\n",
        "    dataset.Category.contains('Tools') |\n",
        "    dataset.Category.contains('Music & Audio') |\n",
        "    dataset.Category.contains('Maps & Navigation') |\n",
        "    dataset.Category.contains('Lifestyle') |\n",
        "    dataset.Category.contains('Educational') |\n",
        "    dataset.Category.contains('Education') |\n",
        "    dataset.Category.contains('Productivity') |\n",
        "    dataset.Category.contains('Business') |\n",
        "    dataset.Category.contains('Board') |\n",
        "    dataset.Category.contains('Sports') |\n",
        "    dataset.Category.contains('Medical') |\n",
        "    dataset.Category.contains('Finance') |\n",
        "    dataset.Category.contains('Parenting') |\n",
        "    dataset.Category.contains('Puzzle') |\n",
        "    dataset.Category.contains('Casual') |\n",
        "    dataset.Category.contains('Events') |\n",
        "    dataset.Category.contains('Music') |\n",
        "    dataset.Category.contains('Trivia') |\n",
        "    dataset.Category.contains('Arcade') |\n",
        "    dataset.Category.contains('Personalization') |\n",
        "    dataset.Category.contains('Entertainment') |\n",
        "    dataset.Category.contains('Action') |\n",
        "    dataset.Category.contains('Travel & Local') |\n",
        "    dataset.Category.contains('Auto & Vehicles') |\n",
        "    dataset.Category.contains('Health & Fitness') |\n",
        "    dataset.Category.contains('House & Home') |\n",
        "    dataset.Category.contains('News & Magazines') |\n",
        "    dataset.Category.contains('Food & Drink') |\n",
        "    dataset.Category.contains('Books & Reference') |\n",
        "    dataset.Category.contains('Shopping') |\n",
        "    dataset.Category.contains('Simulation') |\n",
        "    dataset.Category.contains('Racing') |\n",
        "    dataset.Category.contains('Weather') |\n",
        "    dataset.Category.contains('Adventure') |\n",
        "    dataset.Category.contains('Social') |\n",
        "    dataset.Category.contains('Word') |\n",
        "    dataset.Category.contains('Comics') |\n",
        "    dataset.Category.contains('Card') |\n",
        "    dataset.Category.contains('Casino') |\n",
        "    dataset.Category.contains('Beauty') |\n",
        "    dataset.Category.contains('Dating') |\n",
        "    dataset.Category.contains('Libraries & Demo') |\n",
        "    dataset.Category.contains('Video Players & Editors') |\n",
        "    dataset.Category.contains('Art & Design') |\n",
        "    dataset.Category.contains('Role Playing') |\n",
        "    dataset.Category.contains('Photography')\n",
        ")\n",
        "dataset.show()"
      ],
      "execution_count": null,
      "outputs": [
        {
          "output_type": "stream",
          "text": [
            "+--------------------+--------------------+-------------+------+------------+----------------+-----+------------------+------------------+--------------------+------------+------------+--------------+------------+----------------+\n",
            "|            App Name|              App Id|     Category|Rating|Rating Count|Maximum Installs| Free|              Size|   Minimum Android|        Developer Id|    Released|Last Updated|Content Rating|Ad Supported|In App Purchases|\n",
            "+--------------------+--------------------+-------------+------+------------+----------------+-----+------------------+------------------+--------------------+------------+------------+--------------+------------+----------------+\n",
            "|     Audiophile Jawa|admobileapps.lang...|Music & Audio|   0.0|           0|              20| True|               29M|        4.4 and up|   JerLin Production|Dec 29, 2019|Dec 30, 2019|          Teen|        True|           False|\n",
            "|           5asec UAE|       ae.a5asec.app|    Lifestyle|   4.6|          26|           23715| True|              109M|        6.0 and up|Alpes Laundry Ser...|Sep 30, 2019|Nov 18, 2020|      Everyone|       False|           False|\n",
            "|      African Skirts|african.skirts.fa...|       Beauty|   4.2|          51|           26601| True|              9.6M|        4.1 and up|Global App Zone -...| Mar 2, 2019|Nov 23, 2020|      Everyone|        True|           False|\n",
            "|جميع اغاني سولكين...|   aghani.soolking20|Music & Audio|   4.5|        1078|          133143| True|               80M|        4.1 and up|            sao-deve|Oct 27, 2019|Nov 05, 2020|          Teen|        True|           False|\n",
            "|Infiltrating the ...|        air.Airship2|       Casual|   4.5|       70509|        14097187| True|Varies with device|Varies with device|     PuffballsUnited|Dec 16, 2014|Jan 04, 2017|  Everyone 10+|        True|           False|\n",
            "|Guitar Chords - S...|air.IJANGLEANDROI...|Music & Audio|   4.1|          14|             689|False|Varies with device|        4.0 and up|Madster Multimedi...|May 21, 2012|Jan 17, 2019|      Everyone|       False|           False|\n",
            "|Princess Nail Art...|air.LiliDressUpGa...|       Casual|   3.3|        1113|          448194| True|Varies with device|        2.3 and up| Lili Dress Up Games| Mar 7, 2019|Sep 05, 2020|      Everyone|        True|           False|\n",
            "|Ballet Dancer - D...|    air.balletdancer|       Casual|   3.9|       18986|         5099394| True|               17M|        2.3 and up|Girl Games - Vasc...| May 8, 2014|Aug 03, 2016|      Everyone|        True|           False|\n",
            "|Buraco Italiano O...|air.br.com.megabu...|         Card|   4.2|        1486|          214987| True|Varies with device|        4.0 and up|           MegaJogos|Dec 19, 2013|Nov 06, 2020|          Teen|        True|            True|\n",
            "|    Words for a bird|air.com.bartbonte...|         Word|   4.7|        1279|           35598| True|Varies with device|        4.2 and up|          Bart Bonte| Jun 4, 2020|Oct 20, 2020|      Everyone|        True|            True|\n",
            "|Amul Baby Escape ...|air.com.bestescap...|       Puzzle|   4.6|         207|            9550| True|               21M|        4.4 and up|           JRK Games|Aug 23, 2018|Jul 27, 2020|      Everyone|        True|           False|\n",
            "|Miner Birds - Add...|air.com.busything...|  Educational|   0.0|           0|             283|False|               16M|        4.0 and up|    busythings.co.uk| Jul 6, 2017|Jul 06, 2017|      Everyone|       False|           False|\n",
            "|Dress Up Games - ...|air.com.dressupon...|       Casual|   4.1|        7718|         1396427| True|Varies with device|        4.0 and up|          bweb media|Aug 20, 2013|Nov 15, 2019|          Teen|        True|           False|\n",
            "|Hiper Zeka Mobil ...|air.com.fernus.mo...|    Education|   2.9|          58|           13050| True|Varies with device|Varies with device|              FERNUS|Sep 20, 2020|Sep 20, 2020|      Everyone|       False|           False|\n",
            "|Hospital Operatio...|air.com.glammyclu...|Entertainment|   3.5|         144|           90297| True|Varies with device|        4.0 and up|          GlammyClub| Dec 3, 2017|Sep 21, 2019|      Everyone|        True|            True|\n",
            "|Twin Kitties Spa ...|air.com.glammyclu...|Entertainment|   4.6|          60|          148054| True|Varies with device|        4.0 and up|          GlammyClub|Oct 17, 2018|Sep 28, 2019|      Everyone|        True|            True|\n",
            "|Noorani Qaida in ...|air.com.miracle.n...|    Education|   4.8|         415|           79473| True|Varies with device|        2.3 and up|           Jabir Ali|Feb 18, 2017|Jun 18, 2020|      Everyone|        True|            True|\n",
            "|        Slither Me 2|air.com.nfcstudio...|       Action|   4.0|         446|           65901| True|               18M|        4.0 and up|          NFCStudio™| Mar 4, 2019|Mar 04, 2019|      Everyone|        True|           False|\n",
            "|     Bunny Science 1|air.com.preissmur...|    Education|   0.0|           0|              93| True|               48M|        4.0 and up|Preiss Murphy A&A...| Jul 6, 2019|Jul 07, 2019|      Everyone|       False|           False|\n",
            "|3D Escape Games-P...|air.com.quicksail...|       Puzzle|   3.5|        1174|          261890| True|               28M|        2.3 and up|         Quicksailor|Dec 10, 2014|May 26, 2020|      Everyone|        True|           False|\n",
            "+--------------------+--------------------+-------------+------+------------+----------------+-----+------------------+------------------+--------------------+------------+------------+--------------+------------+----------------+\n",
            "only showing top 20 rows\n",
            "\n"
          ],
          "name": "stdout"
        }
      ]
    },
    {
      "cell_type": "markdown",
      "metadata": {
        "id": "6OxCQI1HQa-X"
      },
      "source": [
        "# Data cleaning for \"Content Rating\" column"
      ]
    },
    {
      "cell_type": "code",
      "metadata": {
        "id": "MNS1mL5fQgak",
        "colab": {
          "base_uri": "https://localhost:8080/"
        },
        "outputId": "1230a578-e469-4aa1-a0c1-da90d1b4c2ac"
      },
      "source": [
        "dataset = dataset.filter(\n",
        "    dataset['Content Rating'].contains('Everyone') |\n",
        "    dataset['Content Rating'].contains('Teen') |\n",
        "    dataset['Content Rating'].contains('Adults only 18+') |\n",
        "    dataset['Content Rating'].contains('Mature 17+') |\n",
        "    dataset['Content Rating'].contains('Everyone 10+') \n",
        ")\n",
        "dataset.show()"
      ],
      "execution_count": null,
      "outputs": [
        {
          "output_type": "stream",
          "text": [
            "+--------------------+--------------------+-------------+------+------------+----------------+-----+------------------+------------------+--------------------+------------+------------+--------------+------------+----------------+\n",
            "|            App Name|              App Id|     Category|Rating|Rating Count|Maximum Installs| Free|              Size|   Minimum Android|        Developer Id|    Released|Last Updated|Content Rating|Ad Supported|In App Purchases|\n",
            "+--------------------+--------------------+-------------+------+------------+----------------+-----+------------------+------------------+--------------------+------------+------------+--------------+------------+----------------+\n",
            "|     Audiophile Jawa|admobileapps.lang...|Music & Audio|   0.0|           0|              20| True|               29M|        4.4 and up|   JerLin Production|Dec 29, 2019|Dec 30, 2019|          Teen|        True|           False|\n",
            "|           5asec UAE|       ae.a5asec.app|    Lifestyle|   4.6|          26|           23715| True|              109M|        6.0 and up|Alpes Laundry Ser...|Sep 30, 2019|Nov 18, 2020|      Everyone|       False|           False|\n",
            "|      African Skirts|african.skirts.fa...|       Beauty|   4.2|          51|           26601| True|              9.6M|        4.1 and up|Global App Zone -...| Mar 2, 2019|Nov 23, 2020|      Everyone|        True|           False|\n",
            "|جميع اغاني سولكين...|   aghani.soolking20|Music & Audio|   4.5|        1078|          133143| True|               80M|        4.1 and up|            sao-deve|Oct 27, 2019|Nov 05, 2020|          Teen|        True|           False|\n",
            "|Infiltrating the ...|        air.Airship2|       Casual|   4.5|       70509|        14097187| True|Varies with device|Varies with device|     PuffballsUnited|Dec 16, 2014|Jan 04, 2017|  Everyone 10+|        True|           False|\n",
            "|Guitar Chords - S...|air.IJANGLEANDROI...|Music & Audio|   4.1|          14|             689|False|Varies with device|        4.0 and up|Madster Multimedi...|May 21, 2012|Jan 17, 2019|      Everyone|       False|           False|\n",
            "|Princess Nail Art...|air.LiliDressUpGa...|       Casual|   3.3|        1113|          448194| True|Varies with device|        2.3 and up| Lili Dress Up Games| Mar 7, 2019|Sep 05, 2020|      Everyone|        True|           False|\n",
            "|Ballet Dancer - D...|    air.balletdancer|       Casual|   3.9|       18986|         5099394| True|               17M|        2.3 and up|Girl Games - Vasc...| May 8, 2014|Aug 03, 2016|      Everyone|        True|           False|\n",
            "|Buraco Italiano O...|air.br.com.megabu...|         Card|   4.2|        1486|          214987| True|Varies with device|        4.0 and up|           MegaJogos|Dec 19, 2013|Nov 06, 2020|          Teen|        True|            True|\n",
            "|    Words for a bird|air.com.bartbonte...|         Word|   4.7|        1279|           35598| True|Varies with device|        4.2 and up|          Bart Bonte| Jun 4, 2020|Oct 20, 2020|      Everyone|        True|            True|\n",
            "|Amul Baby Escape ...|air.com.bestescap...|       Puzzle|   4.6|         207|            9550| True|               21M|        4.4 and up|           JRK Games|Aug 23, 2018|Jul 27, 2020|      Everyone|        True|           False|\n",
            "|Miner Birds - Add...|air.com.busything...|  Educational|   0.0|           0|             283|False|               16M|        4.0 and up|    busythings.co.uk| Jul 6, 2017|Jul 06, 2017|      Everyone|       False|           False|\n",
            "|Dress Up Games - ...|air.com.dressupon...|       Casual|   4.1|        7718|         1396427| True|Varies with device|        4.0 and up|          bweb media|Aug 20, 2013|Nov 15, 2019|          Teen|        True|           False|\n",
            "|Hiper Zeka Mobil ...|air.com.fernus.mo...|    Education|   2.9|          58|           13050| True|Varies with device|Varies with device|              FERNUS|Sep 20, 2020|Sep 20, 2020|      Everyone|       False|           False|\n",
            "|Hospital Operatio...|air.com.glammyclu...|Entertainment|   3.5|         144|           90297| True|Varies with device|        4.0 and up|          GlammyClub| Dec 3, 2017|Sep 21, 2019|      Everyone|        True|            True|\n",
            "|Twin Kitties Spa ...|air.com.glammyclu...|Entertainment|   4.6|          60|          148054| True|Varies with device|        4.0 and up|          GlammyClub|Oct 17, 2018|Sep 28, 2019|      Everyone|        True|            True|\n",
            "|Noorani Qaida in ...|air.com.miracle.n...|    Education|   4.8|         415|           79473| True|Varies with device|        2.3 and up|           Jabir Ali|Feb 18, 2017|Jun 18, 2020|      Everyone|        True|            True|\n",
            "|        Slither Me 2|air.com.nfcstudio...|       Action|   4.0|         446|           65901| True|               18M|        4.0 and up|          NFCStudio™| Mar 4, 2019|Mar 04, 2019|      Everyone|        True|           False|\n",
            "|     Bunny Science 1|air.com.preissmur...|    Education|   0.0|           0|              93| True|               48M|        4.0 and up|Preiss Murphy A&A...| Jul 6, 2019|Jul 07, 2019|      Everyone|       False|           False|\n",
            "|3D Escape Games-P...|air.com.quicksail...|       Puzzle|   3.5|        1174|          261890| True|               28M|        2.3 and up|         Quicksailor|Dec 10, 2014|May 26, 2020|      Everyone|        True|           False|\n",
            "+--------------------+--------------------+-------------+------+------------+----------------+-----+------------------+------------------+--------------------+------------+------------+--------------+------------+----------------+\n",
            "only showing top 20 rows\n",
            "\n"
          ],
          "name": "stdout"
        }
      ]
    },
    {
      "cell_type": "markdown",
      "metadata": {
        "id": "gWcqCagLYMH3"
      },
      "source": [
        "# Data cleaning for \"Size\" column"
      ]
    },
    {
      "cell_type": "code",
      "metadata": {
        "id": "g_gtSnnsYKyH",
        "colab": {
          "base_uri": "https://localhost:8080/"
        },
        "outputId": "34ecad85-5091-4902-a0aa-60f2c6d825aa"
      },
      "source": [
        "dataset = dataset.filter(\n",
        "    dataset.Size.contains('M') |\n",
        "    dataset.Size.contains('G') |\n",
        "    dataset.Size.contains('k') |\n",
        "    dataset.Size.contains('Varies with device') \n",
        ")\n",
        "dataset = dataset.withColumn('Size', regexp_replace(col('Size'), r'(M)', ''))\n",
        "dataset = dataset.withColumn('Size',\n",
        "                             when(\n",
        "                                 dataset.Size.contains('G'),\n",
        "                                 round(regexp_replace(col('Size'), r'(G)', '').cast('float') * 1024, 2)\n",
        "                             ).\n",
        "                             otherwise(col('Size')))\n",
        "dataset = dataset.withColumn('Size',\n",
        "                             when(\n",
        "                                 dataset.Size.contains('k'),\n",
        "                                 round(regexp_replace(col('Size'), r'(k)', '').cast('float') / 1024, 2)\n",
        "                             ).\n",
        "                             otherwise(col('Size')))\n",
        "dataset = dataset.withColumn('Size',\n",
        "                             when(\n",
        "                                 dataset.Size.contains('Varies'),\n",
        "                                 lit(None)\n",
        "                                 # np.nan\n",
        "                             ).\n",
        "                             otherwise(col('Size')))\n",
        "dataset = dataset.withColumn('Size', col(\"Size\").cast(FloatType()))\n",
        "dataset = Imputer(\n",
        "    inputCol='Size',\n",
        "    outputCol='Size'\n",
        ").setStrategy(\"mean\").fit(dataset).transform(dataset).withColumn('Size', round(col('Size'), 2))\n",
        "dataset.show()"
      ],
      "execution_count": null,
      "outputs": [
        {
          "output_type": "stream",
          "text": [
            "+--------------------+--------------------+-------------+------+------------+----------------+-----+-----+------------------+--------------------+------------+------------+--------------+------------+----------------+\n",
            "|            App Name|              App Id|     Category|Rating|Rating Count|Maximum Installs| Free| Size|   Minimum Android|        Developer Id|    Released|Last Updated|Content Rating|Ad Supported|In App Purchases|\n",
            "+--------------------+--------------------+-------------+------+------------+----------------+-----+-----+------------------+--------------------+------------+------------+--------------+------------+----------------+\n",
            "|     Audiophile Jawa|admobileapps.lang...|Music & Audio|   0.0|           0|              20| True| 29.0|        4.4 and up|   JerLin Production|Dec 29, 2019|Dec 30, 2019|          Teen|        True|           False|\n",
            "|           5asec UAE|       ae.a5asec.app|    Lifestyle|   4.6|          26|           23715| True|109.0|        6.0 and up|Alpes Laundry Ser...|Sep 30, 2019|Nov 18, 2020|      Everyone|       False|           False|\n",
            "|      African Skirts|african.skirts.fa...|       Beauty|   4.2|          51|           26601| True|  9.6|        4.1 and up|Global App Zone -...| Mar 2, 2019|Nov 23, 2020|      Everyone|        True|           False|\n",
            "|جميع اغاني سولكين...|   aghani.soolking20|Music & Audio|   4.5|        1078|          133143| True| 80.0|        4.1 and up|            sao-deve|Oct 27, 2019|Nov 05, 2020|          Teen|        True|           False|\n",
            "|Infiltrating the ...|        air.Airship2|       Casual|   4.5|       70509|        14097187| True|17.97|Varies with device|     PuffballsUnited|Dec 16, 2014|Jan 04, 2017|  Everyone 10+|        True|           False|\n",
            "|Guitar Chords - S...|air.IJANGLEANDROI...|Music & Audio|   4.1|          14|             689|False|17.97|        4.0 and up|Madster Multimedi...|May 21, 2012|Jan 17, 2019|      Everyone|       False|           False|\n",
            "|Princess Nail Art...|air.LiliDressUpGa...|       Casual|   3.3|        1113|          448194| True|17.97|        2.3 and up| Lili Dress Up Games| Mar 7, 2019|Sep 05, 2020|      Everyone|        True|           False|\n",
            "|Ballet Dancer - D...|    air.balletdancer|       Casual|   3.9|       18986|         5099394| True| 17.0|        2.3 and up|Girl Games - Vasc...| May 8, 2014|Aug 03, 2016|      Everyone|        True|           False|\n",
            "|Buraco Italiano O...|air.br.com.megabu...|         Card|   4.2|        1486|          214987| True|17.97|        4.0 and up|           MegaJogos|Dec 19, 2013|Nov 06, 2020|          Teen|        True|            True|\n",
            "|    Words for a bird|air.com.bartbonte...|         Word|   4.7|        1279|           35598| True|17.97|        4.2 and up|          Bart Bonte| Jun 4, 2020|Oct 20, 2020|      Everyone|        True|            True|\n",
            "|Amul Baby Escape ...|air.com.bestescap...|       Puzzle|   4.6|         207|            9550| True| 21.0|        4.4 and up|           JRK Games|Aug 23, 2018|Jul 27, 2020|      Everyone|        True|           False|\n",
            "|Miner Birds - Add...|air.com.busything...|  Educational|   0.0|           0|             283|False| 16.0|        4.0 and up|    busythings.co.uk| Jul 6, 2017|Jul 06, 2017|      Everyone|       False|           False|\n",
            "|Dress Up Games - ...|air.com.dressupon...|       Casual|   4.1|        7718|         1396427| True|17.97|        4.0 and up|          bweb media|Aug 20, 2013|Nov 15, 2019|          Teen|        True|           False|\n",
            "|Hiper Zeka Mobil ...|air.com.fernus.mo...|    Education|   2.9|          58|           13050| True|17.97|Varies with device|              FERNUS|Sep 20, 2020|Sep 20, 2020|      Everyone|       False|           False|\n",
            "|Hospital Operatio...|air.com.glammyclu...|Entertainment|   3.5|         144|           90297| True|17.97|        4.0 and up|          GlammyClub| Dec 3, 2017|Sep 21, 2019|      Everyone|        True|            True|\n",
            "|Twin Kitties Spa ...|air.com.glammyclu...|Entertainment|   4.6|          60|          148054| True|17.97|        4.0 and up|          GlammyClub|Oct 17, 2018|Sep 28, 2019|      Everyone|        True|            True|\n",
            "|Noorani Qaida in ...|air.com.miracle.n...|    Education|   4.8|         415|           79473| True|17.97|        2.3 and up|           Jabir Ali|Feb 18, 2017|Jun 18, 2020|      Everyone|        True|            True|\n",
            "|        Slither Me 2|air.com.nfcstudio...|       Action|   4.0|         446|           65901| True| 18.0|        4.0 and up|          NFCStudio™| Mar 4, 2019|Mar 04, 2019|      Everyone|        True|           False|\n",
            "|     Bunny Science 1|air.com.preissmur...|    Education|   0.0|           0|              93| True| 48.0|        4.0 and up|Preiss Murphy A&A...| Jul 6, 2019|Jul 07, 2019|      Everyone|       False|           False|\n",
            "|3D Escape Games-P...|air.com.quicksail...|       Puzzle|   3.5|        1174|          261890| True| 28.0|        2.3 and up|         Quicksailor|Dec 10, 2014|May 26, 2020|      Everyone|        True|           False|\n",
            "+--------------------+--------------------+-------------+------+------------+----------------+-----+-----+------------------+--------------------+------------+------------+--------------+------------+----------------+\n",
            "only showing top 20 rows\n",
            "\n"
          ],
          "name": "stdout"
        }
      ]
    },
    {
      "cell_type": "markdown",
      "metadata": {
        "id": "j72EC6x-HP6I"
      },
      "source": [
        "# Data cleaning for \"Released\" column"
      ]
    },
    {
      "cell_type": "code",
      "metadata": {
        "id": "LKSum_r3HJ3h",
        "colab": {
          "base_uri": "https://localhost:8080/"
        },
        "outputId": "00d569ca-344d-4ba5-b157-a28c1eb226ad"
      },
      "source": [
        "dataset = dataset.withColumn('Released', when(col('Released').isNull(), col('Last Updated')).otherwise(col('Released')))\n",
        "dataset = dataset.filter(\n",
        "    dataset['Released'].contains('Feb') |\n",
        "    dataset['Released'].contains('Mar') |\n",
        "    dataset['Released'].contains('Apr') |\n",
        "    dataset['Released'].contains('Jan') |\n",
        "    dataset['Released'].contains('May') |\n",
        "    dataset['Released'].contains('Jun') |\n",
        "    dataset['Released'].contains('Jul') |\n",
        "    dataset['Released'].contains('Aug') |\n",
        "    dataset['Released'].contains('Sep') |\n",
        "    dataset['Released'].contains('Oct') |\n",
        "    dataset['Released'].contains('Nov') |\n",
        "    dataset['Released'].contains('Dec')\n",
        ")\n",
        "dataset = dataset.withColumn('month', trim(col('Released')).substr(1,3))\n",
        "dataset = dataset.withColumn('date', trim(trim(col('Released')).substr(length(col('Released'))-7,lit(2))))\n",
        "dataset = dataset.withColumn('year', trim(col('Released')).substr(length(col('Released'))-3,lit(4)))\n",
        "dataset = dataset.filter((dataset.date >= 1) & (dataset.date <= 31))\n",
        "dataset = dataset.filter((dataset.year >= 2000) & (dataset.year <= 2021))\n",
        "dataset = dataset.filter(dataset.month.rlike('(Jan|Feb|Mar|Apr|May|Jun|Jul|Aug|Sep|Oct|Nov|Dec)'))\n",
        "months = ['Jan','Feb','Mar','Apr','May','Jun','Jul','Aug','Sep','Oct','Nov','Dec']\n",
        "for m in months:\n",
        "  dataset = dataset.withColumn('month',\n",
        "                               when(\n",
        "                                   dataset['Released'].contains(m),\n",
        "                                    lit(months.index(m)+1)\n",
        "                                    ).otherwise(col('month')))                               \n",
        "dataset = dataset.withColumn('Released',concat(dataset.year,lit('-'),dataset.month,lit('-'),dataset.date))\n",
        "dataset = dataset.withColumn('Released', col('Released').cast(DateType()))\n",
        "dataset = dataset.drop('month','year','date')\n",
        "dataset.show()"
      ],
      "execution_count": null,
      "outputs": [
        {
          "output_type": "stream",
          "text": [
            "+--------------------+--------------------+-------------+------+------------+----------------+-----+-----+------------------+--------------------+----------+------------+--------------+------------+----------------+\n",
            "|            App Name|              App Id|     Category|Rating|Rating Count|Maximum Installs| Free| Size|   Minimum Android|        Developer Id|  Released|Last Updated|Content Rating|Ad Supported|In App Purchases|\n",
            "+--------------------+--------------------+-------------+------+------------+----------------+-----+-----+------------------+--------------------+----------+------------+--------------+------------+----------------+\n",
            "|     Audiophile Jawa|admobileapps.lang...|Music & Audio|   0.0|           0|              20| True| 29.0|        4.4 and up|   JerLin Production|2019-12-29|Dec 30, 2019|          Teen|        True|           False|\n",
            "|           5asec UAE|       ae.a5asec.app|    Lifestyle|   4.6|          26|           23715| True|109.0|        6.0 and up|Alpes Laundry Ser...|2019-09-30|Nov 18, 2020|      Everyone|       False|           False|\n",
            "|      African Skirts|african.skirts.fa...|       Beauty|   4.2|          51|           26601| True|  9.6|        4.1 and up|Global App Zone -...|2019-03-02|Nov 23, 2020|      Everyone|        True|           False|\n",
            "|جميع اغاني سولكين...|   aghani.soolking20|Music & Audio|   4.5|        1078|          133143| True| 80.0|        4.1 and up|            sao-deve|2019-10-27|Nov 05, 2020|          Teen|        True|           False|\n",
            "|Infiltrating the ...|        air.Airship2|       Casual|   4.5|       70509|        14097187| True|17.97|Varies with device|     PuffballsUnited|2014-12-16|Jan 04, 2017|  Everyone 10+|        True|           False|\n",
            "|Guitar Chords - S...|air.IJANGLEANDROI...|Music & Audio|   4.1|          14|             689|False|17.97|        4.0 and up|Madster Multimedi...|2012-05-21|Jan 17, 2019|      Everyone|       False|           False|\n",
            "|Princess Nail Art...|air.LiliDressUpGa...|       Casual|   3.3|        1113|          448194| True|17.97|        2.3 and up| Lili Dress Up Games|2019-03-07|Sep 05, 2020|      Everyone|        True|           False|\n",
            "|Ballet Dancer - D...|    air.balletdancer|       Casual|   3.9|       18986|         5099394| True| 17.0|        2.3 and up|Girl Games - Vasc...|2014-05-08|Aug 03, 2016|      Everyone|        True|           False|\n",
            "|Buraco Italiano O...|air.br.com.megabu...|         Card|   4.2|        1486|          214987| True|17.97|        4.0 and up|           MegaJogos|2013-12-19|Nov 06, 2020|          Teen|        True|            True|\n",
            "|    Words for a bird|air.com.bartbonte...|         Word|   4.7|        1279|           35598| True|17.97|        4.2 and up|          Bart Bonte|2020-06-04|Oct 20, 2020|      Everyone|        True|            True|\n",
            "|Amul Baby Escape ...|air.com.bestescap...|       Puzzle|   4.6|         207|            9550| True| 21.0|        4.4 and up|           JRK Games|2018-08-23|Jul 27, 2020|      Everyone|        True|           False|\n",
            "|Miner Birds - Add...|air.com.busything...|  Educational|   0.0|           0|             283|False| 16.0|        4.0 and up|    busythings.co.uk|2017-07-06|Jul 06, 2017|      Everyone|       False|           False|\n",
            "|Dress Up Games - ...|air.com.dressupon...|       Casual|   4.1|        7718|         1396427| True|17.97|        4.0 and up|          bweb media|2013-08-20|Nov 15, 2019|          Teen|        True|           False|\n",
            "|Hiper Zeka Mobil ...|air.com.fernus.mo...|    Education|   2.9|          58|           13050| True|17.97|Varies with device|              FERNUS|2020-09-20|Sep 20, 2020|      Everyone|       False|           False|\n",
            "|Hospital Operatio...|air.com.glammyclu...|Entertainment|   3.5|         144|           90297| True|17.97|        4.0 and up|          GlammyClub|2017-12-03|Sep 21, 2019|      Everyone|        True|            True|\n",
            "|Twin Kitties Spa ...|air.com.glammyclu...|Entertainment|   4.6|          60|          148054| True|17.97|        4.0 and up|          GlammyClub|2018-10-17|Sep 28, 2019|      Everyone|        True|            True|\n",
            "|Noorani Qaida in ...|air.com.miracle.n...|    Education|   4.8|         415|           79473| True|17.97|        2.3 and up|           Jabir Ali|2017-02-18|Jun 18, 2020|      Everyone|        True|            True|\n",
            "|        Slither Me 2|air.com.nfcstudio...|       Action|   4.0|         446|           65901| True| 18.0|        4.0 and up|          NFCStudio™|2019-03-04|Mar 04, 2019|      Everyone|        True|           False|\n",
            "|     Bunny Science 1|air.com.preissmur...|    Education|   0.0|           0|              93| True| 48.0|        4.0 and up|Preiss Murphy A&A...|2019-07-06|Jul 07, 2019|      Everyone|       False|           False|\n",
            "|3D Escape Games-P...|air.com.quicksail...|       Puzzle|   3.5|        1174|          261890| True| 28.0|        2.3 and up|         Quicksailor|2014-12-10|May 26, 2020|      Everyone|        True|           False|\n",
            "+--------------------+--------------------+-------------+------+------------+----------------+-----+-----+------------------+--------------------+----------+------------+--------------+------------+----------------+\n",
            "only showing top 20 rows\n",
            "\n"
          ],
          "name": "stdout"
        }
      ]
    },
    {
      "cell_type": "markdown",
      "metadata": {
        "id": "vXc-Yv4MY-Ni"
      },
      "source": [
        "# Data cleaning for \"Last Updated\" column"
      ]
    },
    {
      "cell_type": "code",
      "metadata": {
        "id": "_sTHC5QUZEr4",
        "colab": {
          "base_uri": "https://localhost:8080/"
        },
        "outputId": "9a7c8c28-161f-4892-cff9-6f47a120c999"
      },
      "source": [
        "dataset = dataset.filter(\n",
        "    dataset['Last Updated'].contains('Jan') |\n",
        "    dataset['Last Updated'].contains('Feb') |\n",
        "    dataset['Last Updated'].contains('Mar') |\n",
        "    dataset['Last Updated'].contains('Apr') |\n",
        "    dataset['Last Updated'].contains('May') |\n",
        "    dataset['Last Updated'].contains('Jun') |\n",
        "    dataset['Last Updated'].contains('Jul') |\n",
        "    dataset['Last Updated'].contains('Aug') |\n",
        "    dataset['Last Updated'].contains('Sep') |\n",
        "    dataset['Last Updated'].contains('Oct') |\n",
        "    dataset['Last Updated'].contains('Nov') |\n",
        "    dataset['Last Updated'].contains('Dec')\n",
        ")\n",
        "dataset = dataset.withColumn('month', trim(col('Last Updated')).substr(1,3))\n",
        "dataset = dataset.withColumn('date', trim(trim(col('Last Updated')).substr(length(col('Last Updated'))-7,lit(2))))\n",
        "dataset = dataset.withColumn('year', trim(col('Last Updated')).substr(length(col('Last Updated'))-3,lit(4)))\n",
        "dataset = dataset.filter((dataset.date >= 1) & (dataset.date <= 31))\n",
        "dataset = dataset.filter((dataset.year >= 2000) & (dataset.year <= 2021))\n",
        "dataset = dataset.filter(dataset.month.rlike('(Jan|Feb|Mar|Apr|May|Jun|Jul|Aug|Sep|Oct|Nov|Dec)'))\n",
        "months = ['Jan','Feb','Mar','Apr','May','Jun','Jul','Aug','Sep','Oct','Nov','Dec']\n",
        "for m in months:\n",
        "  dataset = dataset.withColumn('month',\n",
        "                               when(\n",
        "                                   dataset['Last Updated'].contains(m),\n",
        "                                    lit(months.index(m)+1)\n",
        "                                    ).otherwise(col('month')))                   \n",
        "dataset = dataset.withColumn('Last Updated',concat(dataset.year,lit('-'),dataset.month,lit('-'),dataset.date))\n",
        "dataset = dataset.withColumn('Last Updated', col('Last Updated').cast(DateType()))\n",
        "dataset = dataset.drop('month','year','date')\n",
        "dataset.show()"
      ],
      "execution_count": null,
      "outputs": [
        {
          "output_type": "stream",
          "text": [
            "+--------------------+--------------------+-------------+------+------------+----------------+-----+-----+------------------+--------------------+----------+------------+--------------+------------+----------------+\n",
            "|            App Name|              App Id|     Category|Rating|Rating Count|Maximum Installs| Free| Size|   Minimum Android|        Developer Id|  Released|Last Updated|Content Rating|Ad Supported|In App Purchases|\n",
            "+--------------------+--------------------+-------------+------+------------+----------------+-----+-----+------------------+--------------------+----------+------------+--------------+------------+----------------+\n",
            "|     Audiophile Jawa|admobileapps.lang...|Music & Audio|   0.0|           0|              20| True| 29.0|        4.4 and up|   JerLin Production|2019-12-29|  2019-12-30|          Teen|        True|           False|\n",
            "|           5asec UAE|       ae.a5asec.app|    Lifestyle|   4.6|          26|           23715| True|109.0|        6.0 and up|Alpes Laundry Ser...|2019-09-30|  2020-11-18|      Everyone|       False|           False|\n",
            "|      African Skirts|african.skirts.fa...|       Beauty|   4.2|          51|           26601| True|  9.6|        4.1 and up|Global App Zone -...|2019-03-02|  2020-11-23|      Everyone|        True|           False|\n",
            "|جميع اغاني سولكين...|   aghani.soolking20|Music & Audio|   4.5|        1078|          133143| True| 80.0|        4.1 and up|            sao-deve|2019-10-27|  2020-11-05|          Teen|        True|           False|\n",
            "|Infiltrating the ...|        air.Airship2|       Casual|   4.5|       70509|        14097187| True|17.97|Varies with device|     PuffballsUnited|2014-12-16|  2017-01-04|  Everyone 10+|        True|           False|\n",
            "|Guitar Chords - S...|air.IJANGLEANDROI...|Music & Audio|   4.1|          14|             689|False|17.97|        4.0 and up|Madster Multimedi...|2012-05-21|  2019-01-17|      Everyone|       False|           False|\n",
            "|Princess Nail Art...|air.LiliDressUpGa...|       Casual|   3.3|        1113|          448194| True|17.97|        2.3 and up| Lili Dress Up Games|2019-03-07|  2020-09-05|      Everyone|        True|           False|\n",
            "|Ballet Dancer - D...|    air.balletdancer|       Casual|   3.9|       18986|         5099394| True| 17.0|        2.3 and up|Girl Games - Vasc...|2014-05-08|  2016-08-03|      Everyone|        True|           False|\n",
            "|Buraco Italiano O...|air.br.com.megabu...|         Card|   4.2|        1486|          214987| True|17.97|        4.0 and up|           MegaJogos|2013-12-19|  2020-11-06|          Teen|        True|            True|\n",
            "|    Words for a bird|air.com.bartbonte...|         Word|   4.7|        1279|           35598| True|17.97|        4.2 and up|          Bart Bonte|2020-06-04|  2020-10-20|      Everyone|        True|            True|\n",
            "|Amul Baby Escape ...|air.com.bestescap...|       Puzzle|   4.6|         207|            9550| True| 21.0|        4.4 and up|           JRK Games|2018-08-23|  2020-07-27|      Everyone|        True|           False|\n",
            "|Miner Birds - Add...|air.com.busything...|  Educational|   0.0|           0|             283|False| 16.0|        4.0 and up|    busythings.co.uk|2017-07-06|  2017-07-06|      Everyone|       False|           False|\n",
            "|Dress Up Games - ...|air.com.dressupon...|       Casual|   4.1|        7718|         1396427| True|17.97|        4.0 and up|          bweb media|2013-08-20|  2019-11-15|          Teen|        True|           False|\n",
            "|Hiper Zeka Mobil ...|air.com.fernus.mo...|    Education|   2.9|          58|           13050| True|17.97|Varies with device|              FERNUS|2020-09-20|  2020-09-20|      Everyone|       False|           False|\n",
            "|Hospital Operatio...|air.com.glammyclu...|Entertainment|   3.5|         144|           90297| True|17.97|        4.0 and up|          GlammyClub|2017-12-03|  2019-09-21|      Everyone|        True|            True|\n",
            "|Twin Kitties Spa ...|air.com.glammyclu...|Entertainment|   4.6|          60|          148054| True|17.97|        4.0 and up|          GlammyClub|2018-10-17|  2019-09-28|      Everyone|        True|            True|\n",
            "|Noorani Qaida in ...|air.com.miracle.n...|    Education|   4.8|         415|           79473| True|17.97|        2.3 and up|           Jabir Ali|2017-02-18|  2020-06-18|      Everyone|        True|            True|\n",
            "|        Slither Me 2|air.com.nfcstudio...|       Action|   4.0|         446|           65901| True| 18.0|        4.0 and up|          NFCStudio™|2019-03-04|  2019-03-04|      Everyone|        True|           False|\n",
            "|     Bunny Science 1|air.com.preissmur...|    Education|   0.0|           0|              93| True| 48.0|        4.0 and up|Preiss Murphy A&A...|2019-07-06|  2019-07-07|      Everyone|       False|           False|\n",
            "|3D Escape Games-P...|air.com.quicksail...|       Puzzle|   3.5|        1174|          261890| True| 28.0|        2.3 and up|         Quicksailor|2014-12-10|  2020-05-26|      Everyone|        True|           False|\n",
            "+--------------------+--------------------+-------------+------+------------+----------------+-----+-----+------------------+--------------------+----------+------------+--------------+------------+----------------+\n",
            "only showing top 20 rows\n",
            "\n"
          ],
          "name": "stdout"
        }
      ]
    },
    {
      "cell_type": "markdown",
      "metadata": {
        "id": "TQBaZIlR7VgL"
      },
      "source": [
        "# Data cleaning for 'Minimum Android' column"
      ]
    },
    {
      "cell_type": "code",
      "metadata": {
        "id": "UD_e6lRa7koC",
        "colab": {
          "base_uri": "https://localhost:8080/"
        },
        "outputId": "12a580b3-852f-4faa-bd03-8ac9f802c157"
      },
      "source": [
        "dataset = dataset.withColumn('Minimum Android',\n",
        "                             when(\n",
        "                                 dataset['Minimum Android'].contains('Varies'),\n",
        "                                 lit(None)\n",
        "                             ).\n",
        "                             otherwise(col('Minimum Android')))\n",
        "dataset = dataset.withColumn('Minimum Android',\n",
        "                             when(\n",
        "                                 dataset['Minimum Android'].contains('and up'),\n",
        "                                 trim(regexp_replace(col('Minimum Android'), r'(and up)', ''))\n",
        "                             ).\n",
        "                             otherwise(col('Minimum Android')))\n",
        "dataset = dataset.withColumn('Minimum Android',\n",
        "                             when(\n",
        "                                 length(trim(dataset['Minimum Android']))>3,\n",
        "                                 trim(dataset['Minimum Android'].substr(1,3))\n",
        "                             ).\n",
        "                             otherwise(col('Minimum Android')))\n",
        "dataset = dataset.withColumn('Minimum Android',col('Minimum Android').cast(FloatType()))\n",
        "\n",
        "dataset = Imputer(\n",
        "    inputCol='Minimum Android',\n",
        "    outputCol='Minimum Android'\n",
        ").setStrategy(\"mode\").fit(dataset).transform(dataset)\n",
        "dataset = dataset.filter((dataset['Minimum Android'] > 1.0) & (dataset['Minimum Android'] < 10.0))\n",
        "dataset.show()"
      ],
      "execution_count": null,
      "outputs": [
        {
          "output_type": "stream",
          "text": [
            "+--------------------+--------------------+-------------+------+------------+----------------+-----+-----+---------------+--------------------+----------+------------+--------------+------------+----------------+\n",
            "|            App Name|              App Id|     Category|Rating|Rating Count|Maximum Installs| Free| Size|Minimum Android|        Developer Id|  Released|Last Updated|Content Rating|Ad Supported|In App Purchases|\n",
            "+--------------------+--------------------+-------------+------+------------+----------------+-----+-----+---------------+--------------------+----------+------------+--------------+------------+----------------+\n",
            "|     Audiophile Jawa|admobileapps.lang...|Music & Audio|   0.0|           0|              20| True| 29.0|            4.4|   JerLin Production|2019-12-29|  2019-12-30|          Teen|        True|           False|\n",
            "|           5asec UAE|       ae.a5asec.app|    Lifestyle|   4.6|          26|           23715| True|109.0|            6.0|Alpes Laundry Ser...|2019-09-30|  2020-11-18|      Everyone|       False|           False|\n",
            "|      African Skirts|african.skirts.fa...|       Beauty|   4.2|          51|           26601| True|  9.6|            4.1|Global App Zone -...|2019-03-02|  2020-11-23|      Everyone|        True|           False|\n",
            "|جميع اغاني سولكين...|   aghani.soolking20|Music & Audio|   4.5|        1078|          133143| True| 80.0|            4.1|            sao-deve|2019-10-27|  2020-11-05|          Teen|        True|           False|\n",
            "|Infiltrating the ...|        air.Airship2|       Casual|   4.5|       70509|        14097187| True|17.97|            4.1|     PuffballsUnited|2014-12-16|  2017-01-04|  Everyone 10+|        True|           False|\n",
            "|Guitar Chords - S...|air.IJANGLEANDROI...|Music & Audio|   4.1|          14|             689|False|17.97|            4.0|Madster Multimedi...|2012-05-21|  2019-01-17|      Everyone|       False|           False|\n",
            "|Princess Nail Art...|air.LiliDressUpGa...|       Casual|   3.3|        1113|          448194| True|17.97|            2.3| Lili Dress Up Games|2019-03-07|  2020-09-05|      Everyone|        True|           False|\n",
            "|Ballet Dancer - D...|    air.balletdancer|       Casual|   3.9|       18986|         5099394| True| 17.0|            2.3|Girl Games - Vasc...|2014-05-08|  2016-08-03|      Everyone|        True|           False|\n",
            "|Buraco Italiano O...|air.br.com.megabu...|         Card|   4.2|        1486|          214987| True|17.97|            4.0|           MegaJogos|2013-12-19|  2020-11-06|          Teen|        True|            True|\n",
            "|    Words for a bird|air.com.bartbonte...|         Word|   4.7|        1279|           35598| True|17.97|            4.2|          Bart Bonte|2020-06-04|  2020-10-20|      Everyone|        True|            True|\n",
            "|Amul Baby Escape ...|air.com.bestescap...|       Puzzle|   4.6|         207|            9550| True| 21.0|            4.4|           JRK Games|2018-08-23|  2020-07-27|      Everyone|        True|           False|\n",
            "|Miner Birds - Add...|air.com.busything...|  Educational|   0.0|           0|             283|False| 16.0|            4.0|    busythings.co.uk|2017-07-06|  2017-07-06|      Everyone|       False|           False|\n",
            "|Dress Up Games - ...|air.com.dressupon...|       Casual|   4.1|        7718|         1396427| True|17.97|            4.0|          bweb media|2013-08-20|  2019-11-15|          Teen|        True|           False|\n",
            "|Hiper Zeka Mobil ...|air.com.fernus.mo...|    Education|   2.9|          58|           13050| True|17.97|            4.1|              FERNUS|2020-09-20|  2020-09-20|      Everyone|       False|           False|\n",
            "|Hospital Operatio...|air.com.glammyclu...|Entertainment|   3.5|         144|           90297| True|17.97|            4.0|          GlammyClub|2017-12-03|  2019-09-21|      Everyone|        True|            True|\n",
            "|Twin Kitties Spa ...|air.com.glammyclu...|Entertainment|   4.6|          60|          148054| True|17.97|            4.0|          GlammyClub|2018-10-17|  2019-09-28|      Everyone|        True|            True|\n",
            "|Noorani Qaida in ...|air.com.miracle.n...|    Education|   4.8|         415|           79473| True|17.97|            2.3|           Jabir Ali|2017-02-18|  2020-06-18|      Everyone|        True|            True|\n",
            "|        Slither Me 2|air.com.nfcstudio...|       Action|   4.0|         446|           65901| True| 18.0|            4.0|          NFCStudio™|2019-03-04|  2019-03-04|      Everyone|        True|           False|\n",
            "|     Bunny Science 1|air.com.preissmur...|    Education|   0.0|           0|              93| True| 48.0|            4.0|Preiss Murphy A&A...|2019-07-06|  2019-07-07|      Everyone|       False|           False|\n",
            "|3D Escape Games-P...|air.com.quicksail...|       Puzzle|   3.5|        1174|          261890| True| 28.0|            2.3|         Quicksailor|2014-12-10|  2020-05-26|      Everyone|        True|           False|\n",
            "+--------------------+--------------------+-------------+------+------------+----------------+-----+-----+---------------+--------------------+----------+------------+--------------+------------+----------------+\n",
            "only showing top 20 rows\n",
            "\n"
          ],
          "name": "stdout"
        }
      ]
    },
    {
      "cell_type": "markdown",
      "metadata": {
        "id": "tWb6NIXJydHC"
      },
      "source": [
        "# Cast data types"
      ]
    },
    {
      "cell_type": "code",
      "metadata": {
        "id": "nWBcq8vCxct6"
      },
      "source": [
        "dataset = dataset.withColumn('Ad Supported', col('Ad Supported').cast(BooleanType())) \\\n",
        "    .withColumn('In App Purchases', col('In App Purchases').cast(BooleanType())) \\\n",
        "    .withColumn('Maximum Installs', col('Maximum Installs').cast(LongType())) \\\n",
        "    .withColumn('Rating', col('Rating').cast(FloatType())) \\\n",
        "    .withColumn('Rating Count', col('Rating Count').cast(IntegerType()))\n"
      ],
      "execution_count": null,
      "outputs": []
    },
    {
      "cell_type": "markdown",
      "metadata": {
        "id": "rupjBW3DY_z6"
      },
      "source": [
        "# Get null count"
      ]
    },
    {
      "cell_type": "code",
      "metadata": {
        "id": "ThdKRj-bZEff",
        "colab": {
          "base_uri": "https://localhost:8080/"
        },
        "outputId": "437f475e-1d44-467d-b7ed-690b68d33021"
      },
      "source": [
        "dataset.select([count(when(col(c).isNull(), c)).alias(c) for c in dataset.columns]).show()"
      ],
      "execution_count": null,
      "outputs": [
        {
          "output_type": "stream",
          "text": [
            "+--------+------+--------+------+------------+----------------+----+----+---------------+------------+--------+------------+--------------+------------+----------------+\n",
            "|App Name|App Id|Category|Rating|Rating Count|Maximum Installs|Free|Size|Minimum Android|Developer Id|Released|Last Updated|Content Rating|Ad Supported|In App Purchases|\n",
            "+--------+------+--------+------+------------+----------------+----+----+---------------+------------+--------+------------+--------------+------------+----------------+\n",
            "|       0|     0|       0|     0|           0|               0|   0|   0|              0|           0|       0|           0|             0|           0|               0|\n",
            "+--------+------+--------+------+------------+----------------+----+----+---------------+------------+--------+------------+--------------+------------+----------------+\n",
            "\n"
          ],
          "name": "stdout"
        }
      ]
    },
    {
      "cell_type": "code",
      "metadata": {
        "id": "2KRZE3M9wk-6"
      },
      "source": [
        "dataset.show()"
      ],
      "execution_count": null,
      "outputs": []
    },
    {
      "cell_type": "markdown",
      "metadata": {
        "id": "AmLLJeoaHoxd"
      },
      "source": [
        "# Data Analytics"
      ]
    },
    {
      "cell_type": "code",
      "metadata": {
        "id": "E1Lwp-f3ZEa3"
      },
      "source": [
        "df=dataset.toPandas()"
      ],
      "execution_count": null,
      "outputs": []
    },
    {
      "cell_type": "markdown",
      "metadata": {
        "id": "9A4OFW7VKuIj"
      },
      "source": [
        "# Identify the most rated category in Google play store"
      ]
    },
    {
      "cell_type": "code",
      "metadata": {
        "id": "kq9B-cvekZip",
        "colab": {
          "base_uri": "https://localhost:8080/",
          "height": 106
        },
        "outputId": "bb312a3c-bd99-4e52-98d9-6a41a768ad46"
      },
      "source": [
        "ratings_and_category=df[['Category','Rating Count']]\n",
        "\n",
        "#find sum in each category\n",
        "category_wise_sum=ratings_and_category.groupby('Category').sum()\n",
        "\n",
        "#filter the category with maximum count\n",
        "most_rated_category=category_wise_sum[category_wise_sum['Rating Count']==category_wise_sum['Rating Count'].values.max()]\n",
        "most_rated_category"
      ],
      "execution_count": null,
      "outputs": [
        {
          "output_type": "execute_result",
          "data": {
            "text/html": [
              "<div>\n",
              "<style scoped>\n",
              "    .dataframe tbody tr th:only-of-type {\n",
              "        vertical-align: middle;\n",
              "    }\n",
              "\n",
              "    .dataframe tbody tr th {\n",
              "        vertical-align: top;\n",
              "    }\n",
              "\n",
              "    .dataframe thead th {\n",
              "        text-align: right;\n",
              "    }\n",
              "</style>\n",
              "<table border=\"1\" class=\"dataframe\">\n",
              "  <thead>\n",
              "    <tr style=\"text-align: right;\">\n",
              "      <th></th>\n",
              "      <th>Rating Count</th>\n",
              "    </tr>\n",
              "    <tr>\n",
              "      <th>Category</th>\n",
              "      <th></th>\n",
              "    </tr>\n",
              "  </thead>\n",
              "  <tbody>\n",
              "    <tr>\n",
              "      <th>Action</th>\n",
              "      <td>502780770</td>\n",
              "    </tr>\n",
              "  </tbody>\n",
              "</table>\n",
              "</div>"
            ],
            "text/plain": [
              "          Rating Count\n",
              "Category              \n",
              "Action       502780770"
            ]
          },
          "metadata": {
            "tags": []
          },
          "execution_count": 27
        }
      ]
    },
    {
      "cell_type": "markdown",
      "metadata": {
        "id": "sHDLbq-ycls8"
      },
      "source": [
        "# Identify the average ratings with respect to the total number of apps released by a developer"
      ]
    },
    {
      "cell_type": "code",
      "metadata": {
        "id": "i9ZbLctwKsIm",
        "colab": {
          "base_uri": "https://localhost:8080/",
          "height": 461
        },
        "outputId": "36cbc231-23fa-473a-cdb7-8a903cb91b29"
      },
      "source": [
        "ratings_and_developer=df[['App Id','Rating','Rating Count','Developer Id']]\n",
        "\n",
        "#find mean in each category\n",
        "developer_wise_count_and_mean=ratings_and_developer.groupby('Developer Id').agg({'Rating': ['mean'], 'Rating Count':['sum'], 'App Id':['count']})\n",
        "\n",
        "developer_wise_count_and_mean[('Rating', 'mean')]=np.round(developer_wise_count_and_mean[('Rating', 'mean')], decimals=1)\n",
        "developer_wise_count_and_mean[('Rating Count', 'sum')]=np.round(developer_wise_count_and_mean[('Rating Count', 'sum')], decimals=1)\n",
        "\n",
        "developer_wise_count_and_mean=developer_wise_count_and_mean.sort_values([('Rating', 'mean'),('Rating Count', 'sum'),('App Id', 'count')], ascending=[False, False,False])\n",
        "developer_wise_count_and_mean\n"
      ],
      "execution_count": null,
      "outputs": [
        {
          "output_type": "execute_result",
          "data": {
            "text/html": [
              "<div>\n",
              "<style scoped>\n",
              "    .dataframe tbody tr th:only-of-type {\n",
              "        vertical-align: middle;\n",
              "    }\n",
              "\n",
              "    .dataframe tbody tr th {\n",
              "        vertical-align: top;\n",
              "    }\n",
              "\n",
              "    .dataframe thead tr th {\n",
              "        text-align: left;\n",
              "    }\n",
              "\n",
              "    .dataframe thead tr:last-of-type th {\n",
              "        text-align: right;\n",
              "    }\n",
              "</style>\n",
              "<table border=\"1\" class=\"dataframe\">\n",
              "  <thead>\n",
              "    <tr>\n",
              "      <th></th>\n",
              "      <th>Rating</th>\n",
              "      <th>Rating Count</th>\n",
              "      <th>App Id</th>\n",
              "    </tr>\n",
              "    <tr>\n",
              "      <th></th>\n",
              "      <th>mean</th>\n",
              "      <th>sum</th>\n",
              "      <th>count</th>\n",
              "    </tr>\n",
              "    <tr>\n",
              "      <th>Developer Id</th>\n",
              "      <th></th>\n",
              "      <th></th>\n",
              "      <th></th>\n",
              "    </tr>\n",
              "  </thead>\n",
              "  <tbody>\n",
              "    <tr>\n",
              "      <th>Уроки йоги и медитации - Yogashkola</th>\n",
              "      <td>5.0</td>\n",
              "      <td>42649</td>\n",
              "      <td>2</td>\n",
              "    </tr>\n",
              "    <tr>\n",
              "      <th>WillamBlock</th>\n",
              "      <td>5.0</td>\n",
              "      <td>31922</td>\n",
              "      <td>1</td>\n",
              "    </tr>\n",
              "    <tr>\n",
              "      <th>AimeeDemi</th>\n",
              "      <td>5.0</td>\n",
              "      <td>21112</td>\n",
              "      <td>1</td>\n",
              "    </tr>\n",
              "    <tr>\n",
              "      <th>FannieDemi</th>\n",
              "      <td>5.0</td>\n",
              "      <td>18667</td>\n",
              "      <td>1</td>\n",
              "    </tr>\n",
              "    <tr>\n",
              "      <th>TonyAllison</th>\n",
              "      <td>5.0</td>\n",
              "      <td>14683</td>\n",
              "      <td>1</td>\n",
              "    </tr>\n",
              "    <tr>\n",
              "      <th>...</th>\n",
              "      <td>...</td>\n",
              "      <td>...</td>\n",
              "      <td>...</td>\n",
              "    </tr>\n",
              "    <tr>\n",
              "      <th>충무교회</th>\n",
              "      <td>0.0</td>\n",
              "      <td>0</td>\n",
              "      <td>1</td>\n",
              "    </tr>\n",
              "    <tr>\n",
              "      <th>코트립</th>\n",
              "      <td>0.0</td>\n",
              "      <td>0</td>\n",
              "      <td>1</td>\n",
              "    </tr>\n",
              "    <tr>\n",
              "      <th>피렐루페렐</th>\n",
              "      <td>0.0</td>\n",
              "      <td>0</td>\n",
              "      <td>1</td>\n",
              "    </tr>\n",
              "    <tr>\n",
              "      <th>한그루</th>\n",
              "      <td>0.0</td>\n",
              "      <td>0</td>\n",
              "      <td>1</td>\n",
              "    </tr>\n",
              "    <tr>\n",
              "      <th>화이트비즈</th>\n",
              "      <td>0.0</td>\n",
              "      <td>0</td>\n",
              "      <td>1</td>\n",
              "    </tr>\n",
              "  </tbody>\n",
              "</table>\n",
              "<p>164878 rows × 3 columns</p>\n",
              "</div>"
            ],
            "text/plain": [
              "                                    Rating Rating Count App Id\n",
              "                                      mean          sum  count\n",
              "Developer Id                                                  \n",
              "Уроки йоги и медитации - Yogashkola    5.0        42649      2\n",
              "WillamBlock                            5.0        31922      1\n",
              "AimeeDemi                              5.0        21112      1\n",
              "FannieDemi                             5.0        18667      1\n",
              "TonyAllison                            5.0        14683      1\n",
              "...                                    ...          ...    ...\n",
              "충무교회                                   0.0            0      1\n",
              "코트립                                    0.0            0      1\n",
              "피렐루페렐                                  0.0            0      1\n",
              "한그루                                    0.0            0      1\n",
              "화이트비즈                                  0.0            0      1\n",
              "\n",
              "[164878 rows x 3 columns]"
            ]
          },
          "metadata": {
            "tags": []
          },
          "execution_count": 28
        }
      ]
    },
    {
      "cell_type": "markdown",
      "metadata": {
        "id": "bozjdT7GcZsI"
      },
      "source": [
        "# Identify the developer involvement by analyzing released and last updated dates"
      ]
    },
    {
      "cell_type": "code",
      "metadata": {
        "id": "mgr0lomfst_V"
      },
      "source": [
        "#convert to date\n",
        "df['Last Updated']=pd.to_datetime(df['Last Updated'], format='%Y-%m-%d')\n",
        "df['Released']=pd.to_datetime(df['Released'], format='%Y-%m-%d')\n",
        "\n",
        "#create new column \n",
        "df['Days Between Released and Updated'] = df['Last Updated'] - df['Released']"
      ],
      "execution_count": null,
      "outputs": []
    },
    {
      "cell_type": "code",
      "metadata": {
        "id": "n6_HKU7MLJSZ"
      },
      "source": [
        "df['Days Between Current and Updated'] = pd.to_datetime(str(date.today()), format='%Y-%m-%d') - df['Released']"
      ],
      "execution_count": null,
      "outputs": []
    },
    {
      "cell_type": "code",
      "metadata": {
        "id": "GPHP0DCgtYNC",
        "colab": {
          "base_uri": "https://localhost:8080/",
          "height": 461
        },
        "outputId": "ff6689a1-71a4-4e3f-bbb7-5151f7514182"
      },
      "source": [
        "if df['Days Between Released and Updated'].dtypes == 'timedelta64[ns]' :\n",
        "  df['Days Between Released and Updated']=(df['Days Between Released and Updated'] / np.timedelta64(1, 'D')).astype(int)\n",
        "else :\n",
        "  df['Days Between Released and Updated']=df['Days Between Released and Updated']\n",
        "\n",
        "if df['Days Between Current and Updated'].dtypes == 'timedelta64[ns]' :\n",
        "  df['Days Between Current and Updated']=(df['Days Between Current and Updated'] / np.timedelta64(1, 'D')).astype(int)\n",
        "else :\n",
        "  df['Days Between Current and Updated']=df['Days Between Current and Updated']\n",
        "\n",
        "df.loc[df[\"Days Between Released and Updated\"] < 0, \"Days Between Released and Updated\"] = 0\n",
        "\n",
        "dates_and_developer=df[['Days Between Released and Updated','Days Between Current and Updated','Developer Id']]\n",
        "\n",
        "developer_wise_day_released_updated=dates_and_developer.groupby('Developer Id').agg({'Days Between Released and Updated': ['mean'],'Days Between Current and Updated' : ['mean']})\n",
        "\n",
        "developer_wise_day_released_updated[('Days Between Released and Updated', 'mean')]=np.round(developer_wise_day_released_updated[('Days Between Released and Updated', 'mean')], decimals=0)\n",
        "developer_wise_day_released_updated[('Days Between Current and Updated', 'mean')]=np.round(developer_wise_day_released_updated[('Days Between Current and Updated', 'mean')], decimals=0)\n",
        "\n",
        "developer_wise_day_released_updated=developer_wise_day_released_updated.sort_values([('Days Between Current and Updated', 'mean'),('Days Between Released and Updated', 'mean')], ascending=[True, False])\n",
        "developer_wise_day_released_updated"
      ],
      "execution_count": null,
      "outputs": [
        {
          "output_type": "execute_result",
          "data": {
            "text/html": [
              "<div>\n",
              "<style scoped>\n",
              "    .dataframe tbody tr th:only-of-type {\n",
              "        vertical-align: middle;\n",
              "    }\n",
              "\n",
              "    .dataframe tbody tr th {\n",
              "        vertical-align: top;\n",
              "    }\n",
              "\n",
              "    .dataframe thead tr th {\n",
              "        text-align: left;\n",
              "    }\n",
              "\n",
              "    .dataframe thead tr:last-of-type th {\n",
              "        text-align: right;\n",
              "    }\n",
              "</style>\n",
              "<table border=\"1\" class=\"dataframe\">\n",
              "  <thead>\n",
              "    <tr>\n",
              "      <th></th>\n",
              "      <th>Days Between Released and Updated</th>\n",
              "      <th>Days Between Current and Updated</th>\n",
              "    </tr>\n",
              "    <tr>\n",
              "      <th></th>\n",
              "      <th>mean</th>\n",
              "      <th>mean</th>\n",
              "    </tr>\n",
              "    <tr>\n",
              "      <th>Developer Id</th>\n",
              "      <th></th>\n",
              "      <th></th>\n",
              "    </tr>\n",
              "  </thead>\n",
              "  <tbody>\n",
              "    <tr>\n",
              "      <th>M.NABHAN TOBAL</th>\n",
              "      <td>0.0</td>\n",
              "      <td>178.0</td>\n",
              "    </tr>\n",
              "    <tr>\n",
              "      <th>Maharishi Foundation International</th>\n",
              "      <td>0.0</td>\n",
              "      <td>178.0</td>\n",
              "    </tr>\n",
              "    <tr>\n",
              "      <th>David Chipundo</th>\n",
              "      <td>1.0</td>\n",
              "      <td>179.0</td>\n",
              "    </tr>\n",
              "    <tr>\n",
              "      <th>Devyac</th>\n",
              "      <td>0.0</td>\n",
              "      <td>179.0</td>\n",
              "    </tr>\n",
              "    <tr>\n",
              "      <th>Social Ninja Game</th>\n",
              "      <td>0.0</td>\n",
              "      <td>179.0</td>\n",
              "    </tr>\n",
              "    <tr>\n",
              "      <th>...</th>\n",
              "      <td>...</td>\n",
              "      <td>...</td>\n",
              "    </tr>\n",
              "    <tr>\n",
              "      <th>Bobby Jaeger</th>\n",
              "      <td>197.0</td>\n",
              "      <td>4138.0</td>\n",
              "    </tr>\n",
              "    <tr>\n",
              "      <th>Leo GmbH</th>\n",
              "      <td>3930.0</td>\n",
              "      <td>4139.0</td>\n",
              "    </tr>\n",
              "    <tr>\n",
              "      <th>Spamdrain AB</th>\n",
              "      <td>3577.0</td>\n",
              "      <td>4139.0</td>\n",
              "    </tr>\n",
              "    <tr>\n",
              "      <th>Symantec VIP</th>\n",
              "      <td>3581.0</td>\n",
              "      <td>4140.0</td>\n",
              "    </tr>\n",
              "    <tr>\n",
              "      <th>Cyberia Hosting - Mahmoud Jisri</th>\n",
              "      <td>44.0</td>\n",
              "      <td>4160.0</td>\n",
              "    </tr>\n",
              "  </tbody>\n",
              "</table>\n",
              "<p>164878 rows × 2 columns</p>\n",
              "</div>"
            ],
            "text/plain": [
              "                                   Days Between Released and Updated Days Between Current and Updated\n",
              "                                                                mean                             mean\n",
              "Developer Id                                                                                         \n",
              "M.NABHAN TOBAL                                                   0.0                            178.0\n",
              "Maharishi Foundation International                               0.0                            178.0\n",
              "David Chipundo                                                   1.0                            179.0\n",
              "Devyac                                                           0.0                            179.0\n",
              "Social Ninja Game                                                0.0                            179.0\n",
              "...                                                              ...                              ...\n",
              "Bobby Jaeger                                                   197.0                           4138.0\n",
              "Leo GmbH                                                      3930.0                           4139.0\n",
              "Spamdrain AB                                                  3577.0                           4139.0\n",
              "Symantec VIP                                                  3581.0                           4140.0\n",
              "Cyberia Hosting - Mahmoud Jisri                                 44.0                           4160.0\n",
              "\n",
              "[164878 rows x 2 columns]"
            ]
          },
          "metadata": {
            "tags": []
          },
          "execution_count": 31
        }
      ]
    },
    {
      "cell_type": "markdown",
      "metadata": {
        "id": "P84OJfojUgEO"
      },
      "source": [
        "# Correlation"
      ]
    },
    {
      "cell_type": "code",
      "metadata": {
        "id": "jThjpQFr2Jhu"
      },
      "source": [
        "enc = LabelEncoder()\n",
        "\n",
        "enc.fit(df['Ad Supported'])\n",
        "df['Ad Supported Numerics'] = enc.transform(df['Ad Supported'])\n",
        "\n",
        "enc.fit(df['Category'])\n",
        "df['Category Numerics'] = enc.transform(df['Category'])\n",
        "\n",
        "enc.fit(df['Content Rating'])\n",
        "df['Content Rating Numerics'] = enc.transform(df['Content Rating'])\n"
      ],
      "execution_count": null,
      "outputs": []
    },
    {
      "cell_type": "code",
      "metadata": {
        "id": "GzOvGeFZAb7H",
        "colab": {
          "base_uri": "https://localhost:8080/",
          "height": 346
        },
        "outputId": "aeaa71fe-f367-47a9-a16c-12ca94345f82"
      },
      "source": [
        "#correlation matrix\n",
        "df_numerical=df[['Rating','Rating Count','Maximum Installs','Size','Minimum Android','Ad Supported Numerics','Category Numerics','Content Rating Numerics']]\n",
        "df_numerical.corr()"
      ],
      "execution_count": null,
      "outputs": [
        {
          "output_type": "execute_result",
          "data": {
            "text/html": [
              "<div>\n",
              "<style scoped>\n",
              "    .dataframe tbody tr th:only-of-type {\n",
              "        vertical-align: middle;\n",
              "    }\n",
              "\n",
              "    .dataframe tbody tr th {\n",
              "        vertical-align: top;\n",
              "    }\n",
              "\n",
              "    .dataframe thead th {\n",
              "        text-align: right;\n",
              "    }\n",
              "</style>\n",
              "<table border=\"1\" class=\"dataframe\">\n",
              "  <thead>\n",
              "    <tr style=\"text-align: right;\">\n",
              "      <th></th>\n",
              "      <th>Rating</th>\n",
              "      <th>Rating Count</th>\n",
              "      <th>Maximum Installs</th>\n",
              "      <th>Size</th>\n",
              "      <th>Minimum Android</th>\n",
              "      <th>Ad Supported Numerics</th>\n",
              "      <th>Category Numerics</th>\n",
              "      <th>Content Rating Numerics</th>\n",
              "    </tr>\n",
              "  </thead>\n",
              "  <tbody>\n",
              "    <tr>\n",
              "      <th>Rating</th>\n",
              "      <td>1.000000</td>\n",
              "      <td>0.016636</td>\n",
              "      <td>0.014902</td>\n",
              "      <td>0.085326</td>\n",
              "      <td>-0.047777</td>\n",
              "      <td>0.095959</td>\n",
              "      <td>0.032896</td>\n",
              "      <td>0.026329</td>\n",
              "    </tr>\n",
              "    <tr>\n",
              "      <th>Rating Count</th>\n",
              "      <td>0.016636</td>\n",
              "      <td>1.000000</td>\n",
              "      <td>0.559159</td>\n",
              "      <td>0.022825</td>\n",
              "      <td>0.002338</td>\n",
              "      <td>0.002391</td>\n",
              "      <td>0.002806</td>\n",
              "      <td>0.012651</td>\n",
              "    </tr>\n",
              "    <tr>\n",
              "      <th>Maximum Installs</th>\n",
              "      <td>0.014902</td>\n",
              "      <td>0.559159</td>\n",
              "      <td>1.000000</td>\n",
              "      <td>0.011697</td>\n",
              "      <td>0.003229</td>\n",
              "      <td>-0.001443</td>\n",
              "      <td>0.005932</td>\n",
              "      <td>0.007345</td>\n",
              "    </tr>\n",
              "    <tr>\n",
              "      <th>Size</th>\n",
              "      <td>0.085326</td>\n",
              "      <td>0.022825</td>\n",
              "      <td>0.011697</td>\n",
              "      <td>1.000000</td>\n",
              "      <td>0.191932</td>\n",
              "      <td>-0.036047</td>\n",
              "      <td>-0.015408</td>\n",
              "      <td>0.068917</td>\n",
              "    </tr>\n",
              "    <tr>\n",
              "      <th>Minimum Android</th>\n",
              "      <td>-0.047777</td>\n",
              "      <td>0.002338</td>\n",
              "      <td>0.003229</td>\n",
              "      <td>0.191932</td>\n",
              "      <td>1.000000</td>\n",
              "      <td>-0.102871</td>\n",
              "      <td>0.041141</td>\n",
              "      <td>0.026931</td>\n",
              "    </tr>\n",
              "    <tr>\n",
              "      <th>Ad Supported Numerics</th>\n",
              "      <td>0.095959</td>\n",
              "      <td>0.002391</td>\n",
              "      <td>-0.001443</td>\n",
              "      <td>-0.036047</td>\n",
              "      <td>-0.102871</td>\n",
              "      <td>1.000000</td>\n",
              "      <td>-0.011179</td>\n",
              "      <td>0.126481</td>\n",
              "    </tr>\n",
              "    <tr>\n",
              "      <th>Category Numerics</th>\n",
              "      <td>0.032896</td>\n",
              "      <td>0.002806</td>\n",
              "      <td>0.005932</td>\n",
              "      <td>-0.015408</td>\n",
              "      <td>0.041141</td>\n",
              "      <td>-0.011179</td>\n",
              "      <td>1.000000</td>\n",
              "      <td>-0.001113</td>\n",
              "    </tr>\n",
              "    <tr>\n",
              "      <th>Content Rating Numerics</th>\n",
              "      <td>0.026329</td>\n",
              "      <td>0.012651</td>\n",
              "      <td>0.007345</td>\n",
              "      <td>0.068917</td>\n",
              "      <td>0.026931</td>\n",
              "      <td>0.126481</td>\n",
              "      <td>-0.001113</td>\n",
              "      <td>1.000000</td>\n",
              "    </tr>\n",
              "  </tbody>\n",
              "</table>\n",
              "</div>"
            ],
            "text/plain": [
              "                           Rating  ...  Content Rating Numerics\n",
              "Rating                   1.000000  ...                 0.026329\n",
              "Rating Count             0.016636  ...                 0.012651\n",
              "Maximum Installs         0.014902  ...                 0.007345\n",
              "Size                     0.085326  ...                 0.068917\n",
              "Minimum Android         -0.047777  ...                 0.026931\n",
              "Ad Supported Numerics    0.095959  ...                 0.126481\n",
              "Category Numerics        0.032896  ...                -0.001113\n",
              "Content Rating Numerics  0.026329  ...                 1.000000\n",
              "\n",
              "[8 rows x 8 columns]"
            ]
          },
          "metadata": {
            "tags": []
          },
          "execution_count": 29
        }
      ]
    },
    {
      "cell_type": "markdown",
      "metadata": {
        "id": "EnKLvylucJkJ"
      },
      "source": [
        "# Identify the correlation between Ratings and Ad Supported feature"
      ]
    },
    {
      "cell_type": "code",
      "metadata": {
        "id": "mskIyM4dqTYA",
        "colab": {
          "base_uri": "https://localhost:8080/"
        },
        "outputId": "0a7bd893-72be-4890-cd06-7134d475443b"
      },
      "source": [
        "x=df['Ad Supported Numerics']\n",
        "y=df['Rating']\n",
        "\n",
        "np.corrcoef(x, y)\n",
        "linregress(x, y)"
      ],
      "execution_count": null,
      "outputs": [
        {
          "output_type": "execute_result",
          "data": {
            "text/plain": [
              "LinregressResult(slope=0.4134014093318123, intercept=2.221354458198075, rvalue=0.09595894095734686, pvalue=0.0, stderr=0.004068440122864657)"
            ]
          },
          "metadata": {
            "tags": []
          },
          "execution_count": 34
        }
      ]
    },
    {
      "cell_type": "code",
      "metadata": {
        "id": "lN7Qtd9aqdBE",
        "colab": {
          "base_uri": "https://localhost:8080/",
          "height": 35
        },
        "outputId": "506b7b04-5495-4025-eb3f-15de85e78631"
      },
      "source": [
        "slope, intercept, r, p, stderr = linregress(x, y)\n",
        "line = f'Regression line: y={intercept:.2f}+{slope:.2f}x, r={r:.2f}'\n",
        "line"
      ],
      "execution_count": null,
      "outputs": [
        {
          "output_type": "execute_result",
          "data": {
            "application/vnd.google.colaboratory.intrinsic+json": {
              "type": "string"
            },
            "text/plain": [
              "'Regression line: y=2.22+0.41x, r=0.10'"
            ]
          },
          "metadata": {
            "tags": []
          },
          "execution_count": 35
        }
      ]
    },
    {
      "cell_type": "code",
      "metadata": {
        "id": "vv1dB6_9zvtt",
        "colab": {
          "base_uri": "https://localhost:8080/",
          "height": 472
        },
        "outputId": "559ff6f4-9123-493d-8d5a-33bd32173ffd"
      },
      "source": [
        "plt.style.use('default')\n",
        "fig, ax = plt.subplots()\n",
        "ax.plot(x, y, linewidth=0, marker='8', label='Data points')\n",
        "ax.plot(x, intercept + slope * x, label=line)\n",
        "ax.set_xlabel('Ad Supported Feature (True/False)')\n",
        "ax.set_ylabel('Rating')\n",
        "ax.set_title('Correlation between Ad Supported Feature & Rating')\n",
        "ax.legend(facecolor='white')\n",
        "plt.show()"
      ],
      "execution_count": null,
      "outputs": [
        {
          "output_type": "display_data",
          "data": {
            "image/png": "[encoded data removed]",
            "text/plain": [
              "<Figure size 640x480 with 1 Axes>"
            ]
          },
          "metadata": {
            "tags": []
          }
        }
      ]
    },
    {
      "cell_type": "code",
      "metadata": {
        "id": "SC-r4HESTMTS"
      },
      "source": [
        "add_supported_and_rating=df[['Ad Supported','Rating']]\n",
        "\n",
        "#for ad supported True\n",
        "supported_true=add_supported_and_rating[add_supported_and_rating['Ad Supported']==True]\n",
        "supported_true=supported_true.groupby(['Rating']).size().reset_index(name='Counts')\n",
        "\n",
        "supported_true.plot(x ='Rating', y='Counts', kind = 'line')\n",
        "plt.title('Rating for Ad Supported Apps',fontdict={'size':20,'weight':'bold'})\n",
        "plt.show()\n"
      ],
      "execution_count": null,
      "outputs": []
    },
    {
      "cell_type": "code",
      "metadata": {
        "id": "0bISBitZfI2b"
      },
      "source": [
        "#for ad supported False\n",
        "supported_false=add_supported_and_rating[add_supported_and_rating['Ad Supported']==False]\n",
        "supported_false=supported_false.groupby(['Rating']).size().reset_index(name='Counts')\n",
        "\n",
        "supported_false.plot(x ='Rating', y='Counts', kind = 'line')\n",
        "plt.title('Rating for Ad Not Supported Apps',fontdict={'size':20,'weight':'bold'})\n",
        "plt.show()\n"
      ],
      "execution_count": null,
      "outputs": []
    },
    {
      "cell_type": "code",
      "metadata": {
        "colab": {
          "base_uri": "https://localhost:8080/",
          "height": 472
        },
        "id": "Qh5v-lqpCLYz",
        "outputId": "a8f22412-df47-4f4b-82c0-76097c5cfdb2"
      },
      "source": [
        "fig, ax = plt.subplots()\n",
        "# Extract the unique categories\n",
        "ad_sup = df['Ad Supported'].unique()\n",
        "# Filter out 0-star ratings\n",
        "over_0 = df[df['Rating'] > 0]\n",
        "\n",
        "for ad in ad_sup:\n",
        "    pmf_ad_sup = Pmf.from_seq(over_0[over_0['Ad Supported'] == ad]['Rating'])\n",
        "    ax.plot(pmf_ad_sup, label=ad)\n",
        "\n",
        "ax.set(title='Rating Based on Ad Supported Feature', xlabel='Rating', ylabel='P(X = x)')\n",
        "\n",
        "ax.legend()\n",
        "\n",
        "plt.show();"
      ],
      "execution_count": null,
      "outputs": [
        {
          "output_type": "display_data",
          "data": {
            "image/png": "[encoded data removed]",
            "text/plain": [
              "<Figure size 640x480 with 1 Axes>"
            ]
          },
          "metadata": {
            "tags": []
          }
        }
      ]
    },
    {
      "cell_type": "markdown",
      "metadata": {
        "id": "xWB_3D7ecQC7"
      },
      "source": [
        "# Identify the correlation between Ratings and Installs"
      ]
    },
    {
      "cell_type": "code",
      "metadata": {
        "id": "8EUFQYtcgW81",
        "colab": {
          "base_uri": "https://localhost:8080/"
        },
        "outputId": "072c9c30-0a3d-4457-eb8a-e6e3b3576569"
      },
      "source": [
        "x=df['Rating']\n",
        "y=df['Maximum Installs']\n",
        "\n",
        "np.corrcoef(x, y)\n",
        "linregress(x, y)"
      ],
      "execution_count": null,
      "outputs": [
        {
          "output_type": "execute_result",
          "data": {
            "text/plain": [
              "LinregressResult(slope=220605.42342490764, intercept=-2008.0274560031248, rvalue=0.014902078152097308, pvalue=1.333373869604262e-55, stderr=14043.369507199668)"
            ]
          },
          "metadata": {
            "tags": []
          },
          "execution_count": 100
        }
      ]
    },
    {
      "cell_type": "code",
      "metadata": {
        "id": "9U4EaeVQgdZ8",
        "colab": {
          "base_uri": "https://localhost:8080/",
          "height": 35
        },
        "outputId": "d36e354a-070d-416c-e29e-a5e373b3b954"
      },
      "source": [
        "slope, intercept, r, p, stderr = linregress(x, y)\n",
        "line = f'Regression line: y={intercept:.2f}+{slope:.2f}x, r={r:.2f}'\n",
        "line"
      ],
      "execution_count": null,
      "outputs": [
        {
          "output_type": "execute_result",
          "data": {
            "application/vnd.google.colaboratory.intrinsic+json": {
              "type": "string"
            },
            "text/plain": [
              "'Regression line: y=-2008.03+220605.42x, r=0.01'"
            ]
          },
          "metadata": {
            "tags": []
          },
          "execution_count": 101
        }
      ]
    },
    {
      "cell_type": "code",
      "metadata": {
        "id": "nA-stQbRgf76",
        "colab": {
          "base_uri": "https://localhost:8080/",
          "height": 472
        },
        "outputId": "14202b40-fa86-4c9d-deed-a30c77ff64df"
      },
      "source": [
        "plt.style.use('default')\n",
        "fig, ax = plt.subplots()\n",
        "ax.plot(x, y, linewidth=0, marker='8', label='Data points')\n",
        "ax.plot(x, intercept + slope * x, label=line)\n",
        "ax.set_xlabel('Rating')\n",
        "ax.set_ylabel('Installs')\n",
        "ax.set_title('Correlation between Rating & Installs')\n",
        "ax.legend(facecolor='white')\n",
        "plt.show()"
      ],
      "execution_count": null,
      "outputs": [
        {
          "output_type": "display_data",
          "data": {
            "image/png": "[encoded data removed]",
            "text/plain": [
              "<Figure size 640x480 with 1 Axes>"
            ]
          },
          "metadata": {
            "tags": []
          }
        }
      ]
    },
    {
      "cell_type": "markdown",
      "metadata": {
        "id": "bzoUwZt9cfw5"
      },
      "source": [
        "# Identify the correlation between Android App Version and Installation"
      ]
    },
    {
      "cell_type": "code",
      "metadata": {
        "id": "XBINj7RJiNa9",
        "colab": {
          "base_uri": "https://localhost:8080/"
        },
        "outputId": "ba80bee8-76ff-4cc4-c9c5-ee195898110f"
      },
      "source": [
        "x=df['Minimum Android']\n",
        "y=df['Maximum Installs']\n",
        "\n",
        "np.corrcoef(x, y)\n",
        "linregress(x, y)"
      ],
      "execution_count": null,
      "outputs": [
        {
          "output_type": "execute_result",
          "data": {
            "text/plain": [
              "LinregressResult(slope=124236.74897367325, intercept=28298.121108384978, rvalue=0.0032289583566402318, pvalue=0.0006655223297175243, stderr=36503.58955302727)"
            ]
          },
          "metadata": {
            "tags": []
          },
          "execution_count": 46
        }
      ]
    },
    {
      "cell_type": "code",
      "metadata": {
        "id": "QLgdlRhUirK8",
        "colab": {
          "base_uri": "https://localhost:8080/",
          "height": 35
        },
        "outputId": "d84b0482-cc74-4aea-c405-10d42fdb402e"
      },
      "source": [
        "slope, intercept, r, p, stderr = linregress(x, y)\n",
        "line = f'Regression line: y={intercept:.2f}+{slope:.2f}x, r={r:.2f}'\n",
        "line"
      ],
      "execution_count": null,
      "outputs": [
        {
          "output_type": "execute_result",
          "data": {
            "application/vnd.google.colaboratory.intrinsic+json": {
              "type": "string"
            },
            "text/plain": [
              "'Regression line: y=28298.12+124236.75x, r=0.00'"
            ]
          },
          "metadata": {
            "tags": []
          },
          "execution_count": 47
        }
      ]
    },
    {
      "cell_type": "code",
      "metadata": {
        "id": "ilca-N1niurA",
        "colab": {
          "base_uri": "https://localhost:8080/",
          "height": 472
        },
        "outputId": "7877d8b3-555c-4f17-fe9b-7c765cc76090"
      },
      "source": [
        "plt.style.use('default')\n",
        "fig, ax = plt.subplots()\n",
        "ax.plot(x, y, linewidth=0, marker='8', label='Data points')\n",
        "ax.plot(x, intercept + slope * x, label=line)\n",
        "ax.set_xlabel('Minimum Android Version')\n",
        "ax.set_ylabel('Installs')\n",
        "ax.set_title('Correlation between Minimum Android Version & Installs')\n",
        "ax.legend(facecolor='white')\n",
        "plt.show()"
      ],
      "execution_count": null,
      "outputs": [
        {
          "output_type": "display_data",
          "data": {
            "image/png": "[encoded data removed]",
            "text/plain": [
              "<Figure size 640x480 with 1 Axes>"
            ]
          },
          "metadata": {
            "tags": []
          }
        }
      ]
    },
    {
      "cell_type": "markdown",
      "metadata": {
        "id": "7XZyi5a_bfX4"
      },
      "source": [
        "# Identify whether there is a relationship between Rating Counts and Installations"
      ]
    },
    {
      "cell_type": "code",
      "metadata": {
        "id": "jBymq2Scf7HS",
        "colab": {
          "base_uri": "https://localhost:8080/"
        },
        "outputId": "00de4567-da7b-4a7f-a181-c4c916bf2039"
      },
      "source": [
        "x=df['Rating Count']\n",
        "y=df['Maximum Installs']\n",
        "\n",
        "np.corrcoef(x, y)\n",
        "linregress(x, y)"
      ],
      "execution_count": null,
      "outputs": [
        {
          "output_type": "execute_result",
          "data": {
            "text/plain": [
              "LinregressResult(slope=62.4050905757451, intercept=225308.7376849227, rvalue=0.559159266267439, pvalue=0.0, stderr=0.08778509677740139)"
            ]
          },
          "metadata": {
            "tags": []
          },
          "execution_count": 49
        }
      ]
    },
    {
      "cell_type": "code",
      "metadata": {
        "id": "3D-w9OlOWMgv",
        "colab": {
          "base_uri": "https://localhost:8080/",
          "height": 35
        },
        "outputId": "c09a1018-3fdc-458b-bed0-276fa50d9d1b"
      },
      "source": [
        "slope, intercept, r, p, stderr = linregress(x, y)\n",
        "line = f'Regression line: y={intercept:.2f}+{slope:.2f}x, r={r:.2f}'\n",
        "line"
      ],
      "execution_count": null,
      "outputs": [
        {
          "output_type": "execute_result",
          "data": {
            "application/vnd.google.colaboratory.intrinsic+json": {
              "type": "string"
            },
            "text/plain": [
              "'Regression line: y=225308.74+62.41x, r=0.56'"
            ]
          },
          "metadata": {
            "tags": []
          },
          "execution_count": 50
        }
      ]
    },
    {
      "cell_type": "code",
      "metadata": {
        "id": "zQuSvXZ_WZkk",
        "colab": {
          "base_uri": "https://localhost:8080/",
          "height": 472
        },
        "outputId": "02b94ed0-3fe2-44e4-bedd-fc57b2972dd9"
      },
      "source": [
        "plt.style.use('default')\n",
        "fig, ax = plt.subplots()\n",
        "ax.plot(x, y, linewidth=0, marker='8', label='Data points')\n",
        "ax.plot(x, intercept + slope * x, label=line)\n",
        "ax.set_xlabel('Rating Count')\n",
        "ax.set_ylabel('Installs')\n",
        "ax.set_title('Correlation between Rating Count & Installs')\n",
        "ax.legend(facecolor='white')\n",
        "plt.show()"
      ],
      "execution_count": null,
      "outputs": [
        {
          "output_type": "display_data",
          "data": {
            "image/png": "[encoded data removed]",
            "text/plain": [
              "<Figure size 640x480 with 1 Axes>"
            ]
          },
          "metadata": {
            "tags": []
          }
        }
      ]
    },
    {
      "cell_type": "markdown",
      "metadata": {
        "id": "VvWMJu8PcyZb"
      },
      "source": [
        "# Identify whether there is a relationship between App Size and Released Date"
      ]
    },
    {
      "cell_type": "code",
      "metadata": {
        "id": "dYdMC0MrByfX",
        "colab": {
          "base_uri": "https://localhost:8080/"
        },
        "outputId": "5c3cc99b-03ee-4c5d-feeb-d6c71b16274b"
      },
      "source": [
        "sorted_df=df.sort_values(['Released'], ascending=True)\n",
        "\n",
        "enc.fit(df['Released'])\n",
        "df['Released Numerics'] = enc.transform(df['Released'])\n",
        "\n",
        "x=df['Released Numerics']\n",
        "y=df['Size']\n",
        "\n",
        "np.corrcoef(x, y)\n",
        "linregress(x, y)"
      ],
      "execution_count": null,
      "outputs": [
        {
          "output_type": "execute_result",
          "data": {
            "text/plain": [
              "LinregressResult(slope=0.0023060539957111474, intercept=11.01802013942211, rvalue=0.0854364029796418, pvalue=0.0, stderr=2.5514429713213946e-05)"
            ]
          },
          "metadata": {
            "tags": []
          },
          "execution_count": 97
        }
      ]
    },
    {
      "cell_type": "code",
      "metadata": {
        "id": "qbmbOxb4CE0Q",
        "colab": {
          "base_uri": "https://localhost:8080/",
          "height": 35
        },
        "outputId": "71f6bc0b-3b16-43ae-a4ee-8b39a92542c5"
      },
      "source": [
        "slope, intercept, r, p, stderr = linregress(x, y)\n",
        "line = f'Regression line: y={intercept:.2f}+{slope:.2f}x, r={r:.2f}'\n",
        "line"
      ],
      "execution_count": null,
      "outputs": [
        {
          "output_type": "execute_result",
          "data": {
            "application/vnd.google.colaboratory.intrinsic+json": {
              "type": "string"
            },
            "text/plain": [
              "'Regression line: y=11.02+0.00x, r=0.09'"
            ]
          },
          "metadata": {
            "tags": []
          },
          "execution_count": 98
        }
      ]
    },
    {
      "cell_type": "code",
      "metadata": {
        "id": "ndqMJIN7CJB1",
        "colab": {
          "base_uri": "https://localhost:8080/",
          "height": 472
        },
        "outputId": "e6658147-7b92-4cd7-d91f-df8754ef8f0a"
      },
      "source": [
        "plt.style.use('default')\n",
        "fig, ax = plt.subplots()\n",
        "ax.plot(x, y, linewidth=0, marker='8', label='Data points')\n",
        "ax.plot(x, intercept + slope * x, label=line)\n",
        "ax.set_xlabel('Released Date')\n",
        "ax.set_ylabel('Size')\n",
        "ax.set_title('Correlation between Released Date & Size')\n",
        "ax.legend(facecolor='white')\n",
        "plt.show()"
      ],
      "execution_count": null,
      "outputs": [
        {
          "output_type": "display_data",
          "data": {
            "image/png": "[encoded data removed]",
            "text/plain": [
              "<Figure size 640x480 with 1 Axes>"
            ]
          },
          "metadata": {
            "tags": []
          }
        }
      ]
    },
    {
      "cell_type": "markdown",
      "metadata": {
        "id": "7ZY8t9Mnc2tU"
      },
      "source": [
        "# Identify whether there is a relationship between ratings and period of existence"
      ]
    },
    {
      "cell_type": "code",
      "metadata": {
        "id": "PIsVmvVu9Ni3"
      },
      "source": [
        "df['Days of Existence'] = pd.to_datetime(str(date.today()), format='%Y-%m-%d') - df['Released']\n",
        "\n",
        "if df['Days of Existence'].dtypes == 'timedelta64[ns]' :\n",
        "   df['Days of Existence']=(df['Days of Existence'] / np.timedelta64(1, 'D')).astype(int)\n",
        "else :\n",
        "   df['Days of Existence']=df['Days of Existence']\n",
        "\n",
        "df"
      ],
      "execution_count": null,
      "outputs": []
    },
    {
      "cell_type": "code",
      "metadata": {
        "id": "dSBqDYFI_aST",
        "colab": {
          "base_uri": "https://localhost:8080/"
        },
        "outputId": "6c3b3bf6-fbb9-4238-b342-bccd662e61a1"
      },
      "source": [
        "x=df['Days of Existence']\n",
        "y=df['Rating']\n",
        "\n",
        "np.corrcoef(x, y)\n",
        "linregress(x, y)"
      ],
      "execution_count": null,
      "outputs": [
        {
          "output_type": "execute_result",
          "data": {
            "text/plain": [
              "LinregressResult(slope=0.0007645425621716693, intercept=1.623895652914059, rvalue=0.2970456825347269, pvalue=0.0, stderr=2.331684647154388e-06)"
            ]
          },
          "metadata": {
            "tags": []
          },
          "execution_count": 61
        }
      ]
    },
    {
      "cell_type": "code",
      "metadata": {
        "id": "zPH6ytDmAj1-",
        "colab": {
          "base_uri": "https://localhost:8080/",
          "height": 35
        },
        "outputId": "28741113-5f16-4f28-8587-ad45c9cf8bd3"
      },
      "source": [
        "slope, intercept, r, p, stderr = linregress(x, y)\n",
        "line = f'Regression line: y={intercept:.2f}+{slope:.2f}x, r={r:.2f}'\n",
        "line"
      ],
      "execution_count": null,
      "outputs": [
        {
          "output_type": "execute_result",
          "data": {
            "application/vnd.google.colaboratory.intrinsic+json": {
              "type": "string"
            },
            "text/plain": [
              "'Regression line: y=1.62+0.00x, r=0.30'"
            ]
          },
          "metadata": {
            "tags": []
          },
          "execution_count": 62
        }
      ]
    },
    {
      "cell_type": "code",
      "metadata": {
        "id": "3R4tNgLkAoKZ",
        "colab": {
          "base_uri": "https://localhost:8080/",
          "height": 472
        },
        "outputId": "9e61dcda-27ba-4571-c235-e374e292a102"
      },
      "source": [
        "plt.style.use('default')\n",
        "fig, ax = plt.subplots()\n",
        "ax.plot(x, y, linewidth=0, marker='8', label='Data points')\n",
        "ax.plot(x, intercept + slope * x, label=line)\n",
        "ax.set_xlabel('Days of Existence')\n",
        "ax.set_ylabel('Rating')\n",
        "ax.set_title('Correlation between Days of Existence & Rating')\n",
        "ax.legend(facecolor='white')\n",
        "plt.show()"
      ],
      "execution_count": null,
      "outputs": [
        {
          "output_type": "display_data",
          "data": {
            "image/png": "[encoded data removed]",
            "text/plain": [
              "<Figure size 640x480 with 1 Axes>"
            ]
          },
          "metadata": {
            "tags": []
          }
        }
      ]
    },
    {
      "cell_type": "markdown",
      "metadata": {
        "id": "vmJjZWH2c6lw"
      },
      "source": [
        "# Installation Prediction"
      ]
    },
    {
      "cell_type": "code",
      "metadata": {
        "id": "5TVP6Pe79P0E",
        "colab": {
          "base_uri": "https://localhost:8080/"
        },
        "outputId": "08e0a153-b7b1-4b72-9fa0-0ed92e6be923"
      },
      "source": [
        "indexer=StringIndexer(inputCols=[\"Category\",\"Content Rating\"],outputCols=[\"category_indexed\",\"content_rating_indexed\"])\n",
        "df_installs=indexer.fit(dataset).transform(dataset)\n",
        "df_installs.show()"
      ],
      "execution_count": null,
      "outputs": [
        {
          "output_type": "stream",
          "text": [
            "+--------------------+--------------------+-------------+------+------------+----------------+-----+-----+---------------+--------------------+----------+------------+--------------+------------+----------------+----------------+----------------------+\n",
            "|            App Name|              App Id|     Category|Rating|Rating Count|Maximum Installs| Free| Size|Minimum Android|        Developer Id|  Released|Last Updated|Content Rating|Ad Supported|In App Purchases|category_indexed|content_rating_indexed|\n",
            "+--------------------+--------------------+-------------+------+------------+----------------+-----+-----+---------------+--------------------+----------+------------+--------------+------------+----------------+----------------+----------------------+\n",
            "|     Audiophile Jawa|admobileapps.lang...|Music & Audio|   0.0|           0|              20| True| 29.0|            4.4|   JerLin Production|2019-12-29|  2019-12-30|          Teen|        true|           false|             1.0|                   1.0|\n",
            "|           5asec UAE|       ae.a5asec.app|    Lifestyle|   4.6|          26|           23715| True|109.0|            6.0|Alpes Laundry Ser...|2019-09-30|  2020-11-18|      Everyone|       false|           false|             6.0|                   0.0|\n",
            "|      African Skirts|african.skirts.fa...|       Beauty|   4.2|          51|           26601| True|  9.6|            4.1|Global App Zone -...|2019-03-02|  2020-11-23|      Everyone|        true|           false|            31.0|                   0.0|\n",
            "|جميع اغاني سولكين...|   aghani.soolking20|Music & Audio|   4.5|        1078|          133143| True| 80.0|            4.1|            sao-deve|2019-10-27|  2020-11-05|          Teen|        true|           false|             1.0|                   1.0|\n",
            "|Infiltrating the ...|        air.Airship2|       Casual|   4.5|       70509|        14097187| True|17.97|            4.1|     PuffballsUnited|2014-12-16|  2017-01-04|  Everyone 10+|        true|           false|            18.0|                   3.0|\n",
            "|Guitar Chords - S...|air.IJANGLEANDROI...|Music & Audio|   4.1|          14|             689|False|17.97|            4.0|Madster Multimedi...|2012-05-21|  2019-01-17|      Everyone|       false|           false|             1.0|                   0.0|\n",
            "|Princess Nail Art...|air.LiliDressUpGa...|       Casual|   3.3|        1113|          448194| True|17.97|            2.3| Lili Dress Up Games|2019-03-07|  2020-09-05|      Everyone|        true|           false|            18.0|                   0.0|\n",
            "|Ballet Dancer - D...|    air.balletdancer|       Casual|   3.9|       18986|         5099394| True| 17.0|            2.3|Girl Games - Vasc...|2014-05-08|  2016-08-03|      Everyone|        true|           false|            18.0|                   0.0|\n",
            "|Buraco Italiano O...|air.br.com.megabu...|         Card|   4.2|        1486|          214987| True|17.97|            4.0|           MegaJogos|2013-12-19|  2020-11-06|          Teen|        true|            true|            38.0|                   1.0|\n",
            "|    Words for a bird|air.com.bartbonte...|         Word|   4.7|        1279|           35598| True|17.97|            4.2|          Bart Bonte|2020-06-04|  2020-10-20|      Everyone|        true|            true|            37.0|                   0.0|\n",
            "|Amul Baby Escape ...|air.com.bestescap...|       Puzzle|   4.6|         207|            9550| True| 21.0|            4.4|           JRK Games|2018-08-23|  2020-07-27|      Everyone|        true|           false|            13.0|                   0.0|\n",
            "|Miner Birds - Add...|air.com.busything...|  Educational|   0.0|           0|             283|False| 16.0|            4.0|    busythings.co.uk|2017-07-06|  2017-07-06|      Everyone|       false|           false|            26.0|                   0.0|\n",
            "|Dress Up Games - ...|air.com.dressupon...|       Casual|   4.1|        7718|         1396427| True|17.97|            4.0|          bweb media|2013-08-20|  2019-11-15|          Teen|        true|           false|            18.0|                   1.0|\n",
            "|Hiper Zeka Mobil ...|air.com.fernus.mo...|    Education|   2.9|          58|           13050| True|17.97|            4.1|              FERNUS|2020-09-20|  2020-09-20|      Everyone|       false|           false|             0.0|                   0.0|\n",
            "|Hospital Operatio...|air.com.glammyclu...|Entertainment|   3.5|         144|           90297| True|17.97|            4.0|          GlammyClub|2017-12-03|  2019-09-21|      Everyone|        true|            true|             2.0|                   0.0|\n",
            "|Twin Kitties Spa ...|air.com.glammyclu...|Entertainment|   4.6|          60|          148054| True|17.97|            4.0|          GlammyClub|2018-10-17|  2019-09-28|      Everyone|        true|            true|             2.0|                   0.0|\n",
            "|Noorani Qaida in ...|air.com.miracle.n...|    Education|   4.8|         415|           79473| True|17.97|            2.3|           Jabir Ali|2017-02-18|  2020-06-18|      Everyone|        true|            true|             0.0|                   0.0|\n",
            "|        Slither Me 2|air.com.nfcstudio...|       Action|   4.0|         446|           65901| True| 18.0|            4.0|          NFCStudio™|2019-03-04|  2019-03-04|      Everyone|        true|           false|            24.0|                   0.0|\n",
            "|     Bunny Science 1|air.com.preissmur...|    Education|   0.0|           0|              93| True| 48.0|            4.0|Preiss Murphy A&A...|2019-07-06|  2019-07-07|      Everyone|       false|           false|             0.0|                   0.0|\n",
            "|3D Escape Games-P...|air.com.quicksail...|       Puzzle|   3.5|        1174|          261890| True| 28.0|            2.3|         Quicksailor|2014-12-10|  2020-05-26|      Everyone|        true|           false|            13.0|                   0.0|\n",
            "+--------------------+--------------------+-------------+------+------------+----------------+-----+-----+---------------+--------------------+----------+------------+--------------+------------+----------------+----------------+----------------------+\n",
            "only showing top 20 rows\n",
            "\n"
          ],
          "name": "stdout"
        }
      ]
    },
    {
      "cell_type": "code",
      "metadata": {
        "id": "qGVSod_o9Rpr"
      },
      "source": [
        "featureassembler=VectorAssembler(inputCols=['Rating Count','content_rating_indexed','category_indexed'],outputCol=\"Independent Features\")\n",
        "output=featureassembler.transform(df_installs)"
      ],
      "execution_count": null,
      "outputs": []
    },
    {
      "cell_type": "code",
      "metadata": {
        "id": "9dMGIOyc9Tw6"
      },
      "source": [
        "finalized_data=output.select(\"Independent Features\",\"Maximum Installs\")\n",
        "#finalized_data=finalized_data.filter(finalized_data['Maximum Installs'] > 0.0)"
      ],
      "execution_count": null,
      "outputs": []
    },
    {
      "cell_type": "code",
      "metadata": {
        "id": "n2fmmye99YZm"
      },
      "source": [
        "##train test split\n",
        "train_data,test_data=finalized_data.randomSplit([0.75,0.25])\n",
        "regressor=LinearRegression(featuresCol='Independent Features', labelCol='Maximum Installs')\n",
        "regressor=regressor.fit(train_data)"
      ],
      "execution_count": null,
      "outputs": []
    },
    {
      "cell_type": "code",
      "metadata": {
        "id": "fKNuFpfY9aaX",
        "colab": {
          "base_uri": "https://localhost:8080/"
        },
        "outputId": "e419df07-b6fb-4159-a6ad-2f4127eed98d"
      },
      "source": [
        "regressor.coefficients"
      ],
      "execution_count": null,
      "outputs": [
        {
          "output_type": "execute_result",
          "data": {
            "text/plain": [
              "DenseVector([53.4867, -97288.0237, 2989.7296])"
            ]
          },
          "metadata": {
            "tags": []
          },
          "execution_count": 117
        }
      ]
    },
    {
      "cell_type": "code",
      "metadata": {
        "id": "EAol1QHn9caj",
        "colab": {
          "base_uri": "https://localhost:8080/"
        },
        "outputId": "34b88b92-7568-4bf2-c1cc-02cd58ce6930"
      },
      "source": [
        "regressor.intercept"
      ],
      "execution_count": null,
      "outputs": [
        {
          "output_type": "execute_result",
          "data": {
            "text/plain": [
              "252768.0293277861"
            ]
          },
          "metadata": {
            "tags": []
          },
          "execution_count": 118
        }
      ]
    },
    {
      "cell_type": "code",
      "metadata": {
        "id": "nl7oLm879e-C"
      },
      "source": [
        "pred_results=regressor.evaluate(test_data)"
      ],
      "execution_count": null,
      "outputs": []
    },
    {
      "cell_type": "code",
      "metadata": {
        "id": "ZMG5mS_R9h_7",
        "colab": {
          "base_uri": "https://localhost:8080/"
        },
        "outputId": "d33a8320-a361-42d5-bcfa-8c0e86e2578f"
      },
      "source": [
        "prediction_results=pred_results.predictions\n",
        "prediction_results = prediction_results.orderBy('Maximum Installs', ascending=False)\n",
        "prediction_results.show()"
      ],
      "execution_count": null,
      "outputs": [
        {
          "output_type": "stream",
          "text": [
            "+--------------------+----------------+--------------------+\n",
            "|Independent Features|Maximum Installs|          prediction|\n",
            "+--------------------+----------------+--------------------+\n",
            "|[3.2425599E7,0.0,...|     10772700105|1.7346070428230176E9|\n",
            "|[8.8579975E7,1.0,...|      8571451598| 4.738095572367076E9|\n",
            "|[1626062.0,1.0,29.0]|      5554187901|  8.72149246991246E7|\n",
            "|[3.0472376E7,0.0,...|      4956331694|1.6301504761837144E9|\n",
            "|[6324382.0,1.0,21.0]|      3813413261|  3.38488789913628E8|\n",
            "| [4342585.0,0.0,5.0]|      3788590785|2.3253839709354725E8|\n",
            "| [1738589.0,1.0,3.0]|      3077276285| 9.315589322936536E7|\n",
            "|[1417624.0,1.0,16.0]|      2784570767| 7.602739075339484E7|\n",
            "|[2444387.0,0.0,10.0]|      1749829459|1.3102493788677485E8|\n",
            "|  [427252.0,0.0,9.0]|      1391532063|2.3131988849241044E7|\n",
            "| [2896014.0,0.0,9.0]|      1358878122|1.5517800050484103E8|\n",
            "|  [248357.0,0.0,5.0]|      1314613968|1.3551520995857839E7|\n",
            "|[1.0461399E7,1.0,...|      1159972740|  5.59707504927335E8|\n",
            "|[2.9910196E7,0.0,...|      1109805563| 1.600105222981707E9|\n",
            "| [1100658.0,0.0,9.0]|       984132629| 5.915027515020929E7|\n",
            "| [7525739.0,0.0,5.0]|       956666617| 4.027949022510189E8|\n",
            "|  [290315.0,0.0,5.0]|       956557674|1.5795717300339868E7|\n",
            "|  [340204.0,0.0,5.0]|       868863332| 1.846411687692369E7|\n",
            "|[9424407.0,0.0,24.0]|       795236113| 5.044052537327982E8|\n",
            "|[1380003.0,3.0,16.0]|       772980993|  7.38205903586265E7|\n",
            "+--------------------+----------------+--------------------+\n",
            "only showing top 20 rows\n",
            "\n"
          ],
          "name": "stdout"
        }
      ]
    },
    {
      "cell_type": "code",
      "metadata": {
        "id": "ZD22bh0I9nGY",
        "colab": {
          "base_uri": "https://localhost:8080/"
        },
        "outputId": "a7e3b6fb-d74d-4923-b6ba-fc2847f64320"
      },
      "source": [
        "pred_results.r2,pred_results.meanAbsoluteError,pred_results.meanSquaredError"
      ],
      "execution_count": null,
      "outputs": [
        {
          "output_type": "execute_result",
          "data": {
            "text/plain": [
              "(0.37856261745885655, 598292.466645855, 709044827190107.6)"
            ]
          },
          "metadata": {
            "tags": []
          },
          "execution_count": 121
        }
      ]
    },
    {
      "cell_type": "markdown",
      "metadata": {
        "id": "_gL9jWwxdHoB"
      },
      "source": [
        "# Rating Prediction\n",
        "\n",
        "\n",
        "\n"
      ]
    },
    {
      "cell_type": "code",
      "metadata": {
        "id": "5rNB4r_F3DHJ",
        "colab": {
          "base_uri": "https://localhost:8080/"
        },
        "outputId": "e5b93621-46c9-417a-f0d1-2151d81c00e4"
      },
      "source": [
        "indexer=StringIndexer(inputCols=[\"Category\",\"Content Rating\"],outputCols=[\"category_indexed\",\"content_rating_indexed\"])\n",
        "df_ratings=indexer.fit(dataset).transform(dataset)\n",
        "df_ratings.show()"
      ],
      "execution_count": null,
      "outputs": [
        {
          "output_type": "stream",
          "text": [
            "+--------------------+--------------------+-------------+------+------------+----------------+-----+-----+---------------+--------------------+----------+------------+--------------+------------+----------------+----------------+----------------------+\n",
            "|            App Name|              App Id|     Category|Rating|Rating Count|Maximum Installs| Free| Size|Minimum Android|        Developer Id|  Released|Last Updated|Content Rating|Ad Supported|In App Purchases|category_indexed|content_rating_indexed|\n",
            "+--------------------+--------------------+-------------+------+------------+----------------+-----+-----+---------------+--------------------+----------+------------+--------------+------------+----------------+----------------+----------------------+\n",
            "|     Audiophile Jawa|admobileapps.lang...|Music & Audio|   0.0|           0|              20| True| 29.0|            4.4|   JerLin Production|2019-12-29|  2019-12-30|          Teen|        true|           false|             1.0|                   1.0|\n",
            "|           5asec UAE|       ae.a5asec.app|    Lifestyle|   4.6|          26|           23715| True|109.0|            6.0|Alpes Laundry Ser...|2019-09-30|  2020-11-18|      Everyone|       false|           false|             6.0|                   0.0|\n",
            "|      African Skirts|african.skirts.fa...|       Beauty|   4.2|          51|           26601| True|  9.6|            4.1|Global App Zone -...|2019-03-02|  2020-11-23|      Everyone|        true|           false|            31.0|                   0.0|\n",
            "|جميع اغاني سولكين...|   aghani.soolking20|Music & Audio|   4.5|        1078|          133143| True| 80.0|            4.1|            sao-deve|2019-10-27|  2020-11-05|          Teen|        true|           false|             1.0|                   1.0|\n",
            "|Infiltrating the ...|        air.Airship2|       Casual|   4.5|       70509|        14097187| True|17.97|            4.1|     PuffballsUnited|2014-12-16|  2017-01-04|  Everyone 10+|        true|           false|            18.0|                   3.0|\n",
            "|Guitar Chords - S...|air.IJANGLEANDROI...|Music & Audio|   4.1|          14|             689|False|17.97|            4.0|Madster Multimedi...|2012-05-21|  2019-01-17|      Everyone|       false|           false|             1.0|                   0.0|\n",
            "|Princess Nail Art...|air.LiliDressUpGa...|       Casual|   3.3|        1113|          448194| True|17.97|            2.3| Lili Dress Up Games|2019-03-07|  2020-09-05|      Everyone|        true|           false|            18.0|                   0.0|\n",
            "|Ballet Dancer - D...|    air.balletdancer|       Casual|   3.9|       18986|         5099394| True| 17.0|            2.3|Girl Games - Vasc...|2014-05-08|  2016-08-03|      Everyone|        true|           false|            18.0|                   0.0|\n",
            "|Buraco Italiano O...|air.br.com.megabu...|         Card|   4.2|        1486|          214987| True|17.97|            4.0|           MegaJogos|2013-12-19|  2020-11-06|          Teen|        true|            true|            38.0|                   1.0|\n",
            "|    Words for a bird|air.com.bartbonte...|         Word|   4.7|        1279|           35598| True|17.97|            4.2|          Bart Bonte|2020-06-04|  2020-10-20|      Everyone|        true|            true|            37.0|                   0.0|\n",
            "|Amul Baby Escape ...|air.com.bestescap...|       Puzzle|   4.6|         207|            9550| True| 21.0|            4.4|           JRK Games|2018-08-23|  2020-07-27|      Everyone|        true|           false|            13.0|                   0.0|\n",
            "|Miner Birds - Add...|air.com.busything...|  Educational|   0.0|           0|             283|False| 16.0|            4.0|    busythings.co.uk|2017-07-06|  2017-07-06|      Everyone|       false|           false|            26.0|                   0.0|\n",
            "|Dress Up Games - ...|air.com.dressupon...|       Casual|   4.1|        7718|         1396427| True|17.97|            4.0|          bweb media|2013-08-20|  2019-11-15|          Teen|        true|           false|            18.0|                   1.0|\n",
            "|Hiper Zeka Mobil ...|air.com.fernus.mo...|    Education|   2.9|          58|           13050| True|17.97|            4.1|              FERNUS|2020-09-20|  2020-09-20|      Everyone|       false|           false|             0.0|                   0.0|\n",
            "|Hospital Operatio...|air.com.glammyclu...|Entertainment|   3.5|         144|           90297| True|17.97|            4.0|          GlammyClub|2017-12-03|  2019-09-21|      Everyone|        true|            true|             2.0|                   0.0|\n",
            "|Twin Kitties Spa ...|air.com.glammyclu...|Entertainment|   4.6|          60|          148054| True|17.97|            4.0|          GlammyClub|2018-10-17|  2019-09-28|      Everyone|        true|            true|             2.0|                   0.0|\n",
            "|Noorani Qaida in ...|air.com.miracle.n...|    Education|   4.8|         415|           79473| True|17.97|            2.3|           Jabir Ali|2017-02-18|  2020-06-18|      Everyone|        true|            true|             0.0|                   0.0|\n",
            "|        Slither Me 2|air.com.nfcstudio...|       Action|   4.0|         446|           65901| True| 18.0|            4.0|          NFCStudio™|2019-03-04|  2019-03-04|      Everyone|        true|           false|            24.0|                   0.0|\n",
            "|     Bunny Science 1|air.com.preissmur...|    Education|   0.0|           0|              93| True| 48.0|            4.0|Preiss Murphy A&A...|2019-07-06|  2019-07-07|      Everyone|       false|           false|             0.0|                   0.0|\n",
            "|3D Escape Games-P...|air.com.quicksail...|       Puzzle|   3.5|        1174|          261890| True| 28.0|            2.3|         Quicksailor|2014-12-10|  2020-05-26|      Everyone|        true|           false|            13.0|                   0.0|\n",
            "+--------------------+--------------------+-------------+------+------------+----------------+-----+-----+---------------+--------------------+----------+------------+--------------+------------+----------------+----------------+----------------------+\n",
            "only showing top 20 rows\n",
            "\n"
          ],
          "name": "stdout"
        }
      ]
    },
    {
      "cell_type": "code",
      "metadata": {
        "id": "DzH370-m6v01"
      },
      "source": [
        "featureassembler=VectorAssembler(inputCols=['Size','category_indexed','content_rating_indexed'],outputCol=\"Independent Features\")\n",
        "output=featureassembler.transform(df_ratings)"
      ],
      "execution_count": null,
      "outputs": []
    },
    {
      "cell_type": "code",
      "metadata": {
        "id": "rmAU5nPa7HWP",
        "colab": {
          "base_uri": "https://localhost:8080/"
        },
        "outputId": "b68dbc51-5544-478b-e50a-4b1902819ee6"
      },
      "source": [
        "finalized_data=output.select(\"Independent Features\",\"Rating\")"
      ],
      "execution_count": null,
      "outputs": [
        {
          "output_type": "stream",
          "text": [
            "+--------------------+------+\n",
            "|Independent Features|Rating|\n",
            "+--------------------+------+\n",
            "|      [29.0,1.0,1.0]|   0.0|\n",
            "|     [109.0,6.0,0.0]|   4.6|\n",
            "|[9.60000038146972...|   4.2|\n",
            "|      [80.0,1.0,1.0]|   4.5|\n",
            "|[17.9699993133544...|   4.5|\n",
            "|[17.9699993133544...|   4.1|\n",
            "|[17.9699993133544...|   3.3|\n",
            "|     [17.0,18.0,0.0]|   3.9|\n",
            "|[17.9699993133544...|   4.2|\n",
            "|[17.9699993133544...|   4.7|\n",
            "|     [21.0,13.0,0.0]|   4.6|\n",
            "|     [16.0,26.0,0.0]|   0.0|\n",
            "|[17.9699993133544...|   4.1|\n",
            "|[17.9699993133544...|   2.9|\n",
            "|[17.9699993133544...|   3.5|\n",
            "|[17.9699993133544...|   4.6|\n",
            "|[17.9699993133544...|   4.8|\n",
            "|     [18.0,24.0,0.0]|   4.0|\n",
            "|      [48.0,0.0,0.0]|   0.0|\n",
            "|     [28.0,13.0,0.0]|   3.5|\n",
            "+--------------------+------+\n",
            "only showing top 20 rows\n",
            "\n"
          ],
          "name": "stdout"
        }
      ]
    },
    {
      "cell_type": "code",
      "metadata": {
        "id": "Gc5z733E7R0I"
      },
      "source": [
        "##train test split\n",
        "train_data,test_data=finalized_data.randomSplit([0.75,0.25])\n",
        "regressor=LinearRegression(featuresCol='Independent Features', labelCol='Rating')\n",
        "regressor=regressor.fit(train_data)"
      ],
      "execution_count": null,
      "outputs": []
    },
    {
      "cell_type": "code",
      "metadata": {
        "colab": {
          "base_uri": "https://localhost:8080/"
        },
        "id": "0l3CNPhH8Ljg",
        "outputId": "2478961b-5772-48cb-82c1-5e4c071de97e"
      },
      "source": [
        "regressor.coefficients"
      ],
      "execution_count": null,
      "outputs": [
        {
          "output_type": "execute_result",
          "data": {
            "text/plain": [
              "DenseVector([0.0075, 0.0061, 0.1018])"
            ]
          },
          "metadata": {
            "tags": []
          },
          "execution_count": 46
        }
      ]
    },
    {
      "cell_type": "code",
      "metadata": {
        "colab": {
          "base_uri": "https://localhost:8080/"
        },
        "id": "l9FkN_FD8NpG",
        "outputId": "df583400-26e7-475a-8c11-51964561cd91"
      },
      "source": [
        "regressor.intercept"
      ],
      "execution_count": null,
      "outputs": [
        {
          "output_type": "execute_result",
          "data": {
            "text/plain": [
              "2.2750969913018597"
            ]
          },
          "metadata": {
            "tags": []
          },
          "execution_count": 47
        }
      ]
    },
    {
      "cell_type": "code",
      "metadata": {
        "id": "zSxVA3C08RKm"
      },
      "source": [
        "pred_results=regressor.evaluate(test_data)"
      ],
      "execution_count": null,
      "outputs": []
    },
    {
      "cell_type": "code",
      "metadata": {
        "colab": {
          "base_uri": "https://localhost:8080/"
        },
        "id": "0AEOl88U8TLy",
        "outputId": "145a359b-95e5-45ad-ace4-0a6925a1d001"
      },
      "source": [
        "prediction_results=pred_results.predictions\n",
        "#prediction_results.show()\n",
        "prediction_results.where((col(\"Rating\") > 3) & (col(\"Rating\") < 5)).show()"
      ],
      "execution_count": null,
      "outputs": [
        {
          "output_type": "stream",
          "text": [
            "+--------------------+------+------------------+\n",
            "|Independent Features|Rating|        prediction|\n",
            "+--------------------+------+------------------+\n",
            "|[0.00999999977648...|   3.8| 2.551161657299278|\n",
            "|[0.20999999344348...|   4.7|2.4606662012950244|\n",
            "|[0.30000001192092...|   3.5|2.3386796382955986|\n",
            "|[0.33000001311302...|   3.8| 2.338904800507608|\n",
            "|[0.77999997138977...|   3.9| 2.311616720803567|\n",
            "|[0.81999999284744...|   4.2|2.2873845272859064|\n",
            "|[0.92000001668930...|   4.9| 2.472128142762662|\n",
            "|[0.93999999761581...|   3.4| 2.288285176133943|\n",
            "|       [1.0,5.0,0.0]|   4.0|2.3132679105074203|\n",
            "|[1.29999995231628...|   4.2| 2.284854019743333|\n",
            "|[1.29999995231628...|   3.5| 2.315519532180156|\n",
            "|[1.39999997615814...|   4.3| 2.595957943107484|\n",
            "|       [1.5,3.0,0.0]|   4.7|2.3047544089170597|\n",
            "|       [1.5,3.0,0.0]|   4.8|2.3047544089170597|\n",
            "|       [1.5,5.0,0.0]|   4.7|2.3170206138917893|\n",
            "|[1.60000002384185...|   4.0|2.3852352821086167|\n",
            "|[1.70000004768371...|   3.7|2.3675865155023392|\n",
            "|[1.79999995231628...|   4.8|2.3070060305897955|\n",
            "|[1.79999995231628...|   4.5|2.6333238762129616|\n",
            "|[1.79999995231628...|   4.0|2.4542004902865466|\n",
            "+--------------------+------+------------------+\n",
            "only showing top 20 rows\n",
            "\n"
          ],
          "name": "stdout"
        }
      ]
    },
    {
      "cell_type": "code",
      "metadata": {
        "colab": {
          "base_uri": "https://localhost:8080/"
        },
        "id": "2aLUcPXL8VQu",
        "outputId": "92a98e1a-bb15-4d74-a0be-8ec2b7636c5a"
      },
      "source": [
        "pred_results.r2,pred_results.meanAbsoluteError,pred_results.meanSquaredError"
      ],
      "execution_count": null,
      "outputs": [
        {
          "output_type": "execute_result",
          "data": {
            "text/plain": [
              "(0.02013690995606754, 1.91736180589414, 4.132791843178976)"
            ]
          },
          "metadata": {
            "tags": []
          },
          "execution_count": 38
        }
      ]
    }
  ]
}